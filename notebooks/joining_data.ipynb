{
 "cells": [
  {
   "cell_type": "code",
   "execution_count": 6,
   "metadata": {},
   "outputs": [],
   "source": [
    "import pandas as pd\n",
    "import math"
   ]
  },
  {
   "attachments": {},
   "cell_type": "markdown",
   "metadata": {},
   "source": [
    "# Data Joining"
   ]
  },
  {
   "attachments": {},
   "cell_type": "markdown",
   "metadata": {},
   "source": [
    "Join the data from Part 1 with the data from Part 2 to create a new dataframe."
   ]
  },
  {
   "cell_type": "code",
   "execution_count": 22,
   "metadata": {},
   "outputs": [],
   "source": [
    "#station_df = pd.read_csv('station_info.tsv', sep='\\t')\n",
    "foursqur_df = pd.read_csv('foursqur_info.tsv', sep='\\t')\n",
    "yelp_df = pd.read_csv('yelp_info.tsv', sep='\\t')"
   ]
  },
  {
   "cell_type": "code",
   "execution_count": null,
   "metadata": {},
   "outputs": [],
   "source": [
    "# join two dataframes from part 2 to remove repetitive locations\n",
    "merged_df = foursqur_df.merge(yelp_df, on= ['latitude','longitude'])"
   ]
  },
  {
   "cell_type": "code",
   "execution_count": 50,
   "metadata": {},
   "outputs": [],
   "source": [
    "# function to count number of POI(restaurants and bars) near each bike station.\n",
    "from geopy.distance import geodesic \n",
    "\n",
    "def count_nearby_location(center_points, locations,radius):\n",
    "    results_list = []\n",
    "\n",
    "    for center_idx, center_point in center_points.items():\n",
    "        count = 0\n",
    "\n",
    "        for location in locations.values():\n",
    "            \n",
    "            distance = geodesic((center_point['latitude'],center_point['longitude']),(location['latitude'],location['longitude'])).meters\n",
    "\n",
    "            if distance <= radius:\n",
    "                count += 1\n",
    "\n",
    "        results_list.append(count)\n",
    "\n",
    "    return results_list \n"
   ]
  },
  {
   "cell_type": "code",
   "execution_count": 47,
   "metadata": {},
   "outputs": [
    {
     "data": {
      "text/plain": [
       "dict"
      ]
     },
     "execution_count": 47,
     "metadata": {},
     "output_type": "execute_result"
    }
   ],
   "source": [
    "# define a list of bike station location for center point\n",
    "station_location = {'latitude':station_df['latitude'],\n",
    "                     'longitude':station_df['longitude']}\n",
    "\n",
    "station_loc_df = pd.DataFrame(station_location)\n",
    "\n",
    "station_dic = {}\n",
    "\n",
    "for index, row in station_loc_df.iterrows():\n",
    "    station_dic[index] = {'latitude': row['latitude'],'longitude':row['longitude']}\n",
    "\n",
    "type(station_dic)"
   ]
  },
  {
   "cell_type": "code",
   "execution_count": null,
   "metadata": {},
   "outputs": [],
   "source": [
    "# define a list of  yelp POI locatioins for locatioins\n",
    "yelp_location = {'latitude':yelp_df['latitude'],\n",
    "                     'longitude':yelp_df['longitude']}\n",
    "\n",
    "yelp_loc_df = pd.DataFrame(yelp_location)\n",
    "\n",
    "yelp_dic = {}\n",
    "\n",
    "for index, row in yelp_loc_df.iterrows():\n",
    "    yelp_dic[index] = {'latitude': row['latitude'],'longitude':row['longitude']}\n",
    "\n",
    "type(yelp_dic)"
   ]
  },
  {
   "cell_type": "code",
   "execution_count": null,
   "metadata": {},
   "outputs": [],
   "source": [
    "# define a list of foursquare POI locations for locations\n",
    "foursqur_location = {'latitude':foursqur_df['latitude'],\n",
    "                     'longitude':foursqur_df['longitude']}\n",
    "\n",
    "foursqur_loc_df = pd.DataFrame(foursqur_location)\n",
    "\n",
    "foursqur_dic = {}\n",
    "\n",
    "for index, row in foursqur_loc_df.iterrows():\n",
    "    foursqur_dic[index] = {'latitude': row['latitude'],'longitude':row['longitude']}\n",
    "\n",
    "type(foursqur_dic)"
   ]
  },
  {
   "cell_type": "code",
   "execution_count": null,
   "metadata": {},
   "outputs": [],
   "source": [
    "# return list of nearby POI count for foursquare\n",
    "results = count_nearby_location(center_points=station_dic,locations=foursqur_dic,radius=1000)"
   ]
  },
  {
   "cell_type": "code",
   "execution_count": null,
   "metadata": {},
   "outputs": [],
   "source": [
    "# return list of neaby POI count for yelp\n",
    "yelp_results = count_nearby_location(center_points=station_dic,locations=yelp_dic,radius=1000)"
   ]
  },
  {
   "cell_type": "code",
   "execution_count": null,
   "metadata": {},
   "outputs": [],
   "source": [
    "# add the list into station dataframe\n",
    "station_df['Yelp_poi_count'] = yelp_results\n",
    "station_df.head()"
   ]
  },
  {
   "cell_type": "code",
   "execution_count": 11,
   "metadata": {},
   "outputs": [
    {
     "data": {
      "text/html": [
       "<div>\n",
       "<style scoped>\n",
       "    .dataframe tbody tr th:only-of-type {\n",
       "        vertical-align: middle;\n",
       "    }\n",
       "\n",
       "    .dataframe tbody tr th {\n",
       "        vertical-align: top;\n",
       "    }\n",
       "\n",
       "    .dataframe thead th {\n",
       "        text-align: right;\n",
       "    }\n",
       "</style>\n",
       "<table border=\"1\" class=\"dataframe\">\n",
       "  <thead>\n",
       "    <tr style=\"text-align: right;\">\n",
       "      <th></th>\n",
       "      <th>Unnamed: 0</th>\n",
       "      <th>Unnamed: 0.1</th>\n",
       "      <th>city</th>\n",
       "      <th>station_name</th>\n",
       "      <th>empty_slots</th>\n",
       "      <th>slots</th>\n",
       "      <th>free_bikes</th>\n",
       "      <th>ebikes</th>\n",
       "      <th>latitude</th>\n",
       "      <th>longitude</th>\n",
       "      <th>timestamp</th>\n",
       "      <th>foursquare_num_poi</th>\n",
       "      <th>Yelp_poi_count</th>\n",
       "    </tr>\n",
       "  </thead>\n",
       "  <tbody>\n",
       "    <tr>\n",
       "      <th>0</th>\n",
       "      <td>0</td>\n",
       "      <td>0</td>\n",
       "      <td>Toronto</td>\n",
       "      <td>Queen St E / Woodward Ave</td>\n",
       "      <td>12</td>\n",
       "      <td>19</td>\n",
       "      <td>5</td>\n",
       "      <td>0</td>\n",
       "      <td>43.665269</td>\n",
       "      <td>-79.319796</td>\n",
       "      <td>2023-06-05T15:38:08.527000Z</td>\n",
       "      <td>0</td>\n",
       "      <td>178</td>\n",
       "    </tr>\n",
       "    <tr>\n",
       "      <th>1</th>\n",
       "      <td>1</td>\n",
       "      <td>1</td>\n",
       "      <td>Toronto</td>\n",
       "      <td>Primrose Ave / Davenport Rd</td>\n",
       "      <td>12</td>\n",
       "      <td>15</td>\n",
       "      <td>3</td>\n",
       "      <td>0</td>\n",
       "      <td>43.671420</td>\n",
       "      <td>-79.445947</td>\n",
       "      <td>2023-06-05T15:38:08.527000Z</td>\n",
       "      <td>0</td>\n",
       "      <td>144</td>\n",
       "    </tr>\n",
       "    <tr>\n",
       "      <th>2</th>\n",
       "      <td>2</td>\n",
       "      <td>2</td>\n",
       "      <td>Toronto</td>\n",
       "      <td>Queen St. E / Rhodes Ave.</td>\n",
       "      <td>13</td>\n",
       "      <td>23</td>\n",
       "      <td>10</td>\n",
       "      <td>0</td>\n",
       "      <td>43.666224</td>\n",
       "      <td>-79.317693</td>\n",
       "      <td>2023-06-05T15:38:08.528000Z</td>\n",
       "      <td>0</td>\n",
       "      <td>157</td>\n",
       "    </tr>\n",
       "    <tr>\n",
       "      <th>3</th>\n",
       "      <td>3</td>\n",
       "      <td>3</td>\n",
       "      <td>Toronto</td>\n",
       "      <td>Bond St / Queen St E</td>\n",
       "      <td>8</td>\n",
       "      <td>25</td>\n",
       "      <td>16</td>\n",
       "      <td>0</td>\n",
       "      <td>43.653236</td>\n",
       "      <td>-79.376716</td>\n",
       "      <td>2023-06-05T15:38:08.533000Z</td>\n",
       "      <td>0</td>\n",
       "      <td>1317</td>\n",
       "    </tr>\n",
       "    <tr>\n",
       "      <th>4</th>\n",
       "      <td>4</td>\n",
       "      <td>4</td>\n",
       "      <td>Toronto</td>\n",
       "      <td>Church St / Alexander St</td>\n",
       "      <td>12</td>\n",
       "      <td>15</td>\n",
       "      <td>2</td>\n",
       "      <td>0</td>\n",
       "      <td>43.663722</td>\n",
       "      <td>-79.380288</td>\n",
       "      <td>2023-06-05T15:38:08.534000Z</td>\n",
       "      <td>0</td>\n",
       "      <td>1004</td>\n",
       "    </tr>\n",
       "  </tbody>\n",
       "</table>\n",
       "</div>"
      ],
      "text/plain": [
       "   Unnamed: 0  Unnamed: 0.1     city                 station_name  \\\n",
       "0           0             0  Toronto    Queen St E / Woodward Ave   \n",
       "1           1             1  Toronto  Primrose Ave / Davenport Rd   \n",
       "2           2             2  Toronto    Queen St. E / Rhodes Ave.   \n",
       "3           3             3  Toronto         Bond St / Queen St E   \n",
       "4           4             4  Toronto     Church St / Alexander St   \n",
       "\n",
       "   empty_slots  slots  free_bikes  ebikes   latitude  longitude  \\\n",
       "0           12     19           5       0  43.665269 -79.319796   \n",
       "1           12     15           3       0  43.671420 -79.445947   \n",
       "2           13     23          10       0  43.666224 -79.317693   \n",
       "3            8     25          16       0  43.653236 -79.376716   \n",
       "4           12     15           2       0  43.663722 -79.380288   \n",
       "\n",
       "                     timestamp  foursquare_num_poi  Yelp_poi_count  \n",
       "0  2023-06-05T15:38:08.527000Z                   0             178  \n",
       "1  2023-06-05T15:38:08.527000Z                   0             144  \n",
       "2  2023-06-05T15:38:08.528000Z                   0             157  \n",
       "3  2023-06-05T15:38:08.533000Z                   0            1317  \n",
       "4  2023-06-05T15:38:08.534000Z                   0            1004  "
      ]
     },
     "execution_count": 11,
     "metadata": {},
     "output_type": "execute_result"
    }
   ],
   "source": [
    "station_df = pd.read_csv('poi_count.tsv', sep='\\t')\n",
    "station_df.head()"
   ]
  },
  {
   "attachments": {},
   "cell_type": "markdown",
   "metadata": {},
   "source": [
    "Provide a visualization that you used as part of your EDA process. Explain the initial pattern or relationship you discoved through this visualization. "
   ]
  },
  {
   "cell_type": "code",
   "execution_count": 82,
   "metadata": {},
   "outputs": [
    {
     "data": {
      "image/png": "[encoded data removed]",
      "text/plain": [
       "<Figure size 1440x1440 with 11 Axes>"
      ]
     },
     "metadata": {
      "needs_background": "light"
     },
     "output_type": "display_data"
    }
   ],
   "source": [
    "import matplotlib.pyplot as plt\n",
    "\n",
    "# graph the data to visualize\n",
    "def get_histograms(dataframe, features, rows, cols):\n",
    "\n",
    "    fig=plt.figure(figsize=(20,20))\n",
    "\n",
    "    for i, feature in enumerate(features):\n",
    "\n",
    "        ax=fig.add_subplot(rows,cols,i+1)\n",
    "        dataframe[feature].hist(bins=20,ax=ax,facecolor='midnightblue')\n",
    "        ax.set_title(feature+\" Distribution\",color='DarkRed')\n",
    "        ax.set_yscale('log')\n",
    "        \n",
    "    fig.tight_layout()  \n",
    "    plt.show()\n",
    "\n",
    "get_histograms(station_df,station_df.columns,8,4)"
   ]
  },
  {
   "attachments": {},
   "cell_type": "markdown",
   "metadata": {},
   "source": [
    "# Database"
   ]
  },
  {
   "attachments": {},
   "cell_type": "markdown",
   "metadata": {},
   "source": [
    "Put all your results in an SQLite3 database (remember, SQLite stores its databases as files in your local machine - make sure to create your database in your project's data/ directory!)"
   ]
  },
  {
   "cell_type": "code",
   "execution_count": 36,
   "metadata": {},
   "outputs": [],
   "source": [
    "import sqlite3\n",
    "from sqlite3 import Error\n",
    "\n",
    "# create connection to new database\n",
    "def create_connection(path):\n",
    "    connetion = None\n",
    "    try:\n",
    "        connection = sqlite3.connect(path)\n",
    "        print(\"Connection to SQLite DB successful\")\n",
    "\n",
    "    except Error as e:\n",
    "        print(f\"The error'{e}'eccured\")\n",
    "\n",
    "    return connection"
   ]
  },
  {
   "cell_type": "code",
   "execution_count": 41,
   "metadata": {},
   "outputs": [
    {
     "name": "stdout",
     "output_type": "stream",
     "text": [
      "Connection to SQLite DB successful\n"
     ]
    }
   ],
   "source": [
    "path = '/Users/siyimo/Desktop/citybike_database.db'\n",
    "connection = create_connection(path=path)"
   ]
  },
  {
   "cell_type": "code",
   "execution_count": 40,
   "metadata": {},
   "outputs": [],
   "source": [
    "# execute query\n",
    "def execute_query(connection,query):\n",
    "    cursor = connection.cursor()\n",
    "    try:\n",
    "        cursor.execute(query)\n",
    "        connection.commit()\n",
    "        print('Query executed successfully')\n",
    "    except Error as e:\n",
    "        print(f\"The error '{e}' occured\")"
   ]
  },
  {
   "cell_type": "code",
   "execution_count": 43,
   "metadata": {},
   "outputs": [],
   "source": [
    "create_station_table = \"\"\"\n",
    "CREATE TABLE IF NOT EXISTS station (\n",
    "    city TEXT NOT NULL,\n",
    "        station_name TEXT PRIMARY KEY,\n",
    "        empty_slots INTEGER NOT NULL,\n",
    "        total_slots INTEGER NOT NULL,\n",
    "        free_bikes INTEGER NOT NULL,\n",
    "        ebikes INTEGER NOT NULL,\n",
    "        latitude REAL NOT NULL,\n",
    "        longitude REAL NOT NULL, \n",
    "        POI_count INTEGER NOT NULL\n",
    ");\n",
    "\"\"\""
   ]
  },
  {
   "cell_type": "code",
   "execution_count": 44,
   "metadata": {},
   "outputs": [
    {
     "name": "stdout",
     "output_type": "stream",
     "text": [
      "Query executed successfully\n"
     ]
    }
   ],
   "source": [
    "# add sation table into database\n",
    "execute_query(connection=connection,query=create_station_table)"
   ]
  },
  {
   "cell_type": "code",
   "execution_count": 45,
   "metadata": {},
   "outputs": [],
   "source": [
    "create_foursqure_query = \"\"\"\n",
    "CREATE TABLE IF NOT EXISTS FOURSQURE(\n",
    "    ID TEXT PRIMARY KEY,\n",
    "    latitude REAL NOT NULL,\n",
    "    longitude REAL NOT NULL,\n",
    "    category TEXT NOT NULL\n",
    ");\n",
    "\"\"\""
   ]
  },
  {
   "cell_type": "code",
   "execution_count": 46,
   "metadata": {},
   "outputs": [
    {
     "name": "stdout",
     "output_type": "stream",
     "text": [
      "Query executed successfully\n"
     ]
    }
   ],
   "source": [
    "# add foursquare table into databse\n",
    "execute_query(connection=connection,query=create_foursqure_query)"
   ]
  },
  {
   "cell_type": "code",
   "execution_count": 47,
   "metadata": {},
   "outputs": [],
   "source": [
    "create_yelp_query = \"\"\"\n",
    "CREATE TABLE IF NOT EXISTS YELP(\n",
    "    ID TEXT PRIMARY KEY,\n",
    "    name TEXT NOT NULL,\n",
    "    is_closed TEXT NOT NULL,\n",
    "    latitude REAL NOT NULL,\n",
    "    longitude REAL NOT NULL,\n",
    "    address TEXT NOT NULL,\n",
    "    rating INTEGER NOT NULL,\n",
    "    category TEXT NOT NULL\n",
    ");\"\"\""
   ]
  },
  {
   "cell_type": "code",
   "execution_count": 48,
   "metadata": {},
   "outputs": [
    {
     "name": "stdout",
     "output_type": "stream",
     "text": [
      "Query executed successfully\n"
     ]
    }
   ],
   "source": [
    "# add yelp table into databse\n",
    "execute_query(connection=connection,query=create_yelp_query)"
   ]
  },
  {
   "attachments": {},
   "cell_type": "markdown",
   "metadata": {},
   "source": [
    "Look at the data before and after the join to validate your data."
   ]
  },
  {
   "cell_type": "code",
   "execution_count": 83,
   "metadata": {},
   "outputs": [
    {
     "data": {
      "text/html": [
       "<div>\n",
       "<style scoped>\n",
       "    .dataframe tbody tr th:only-of-type {\n",
       "        vertical-align: middle;\n",
       "    }\n",
       "\n",
       "    .dataframe tbody tr th {\n",
       "        vertical-align: top;\n",
       "    }\n",
       "\n",
       "    .dataframe thead th {\n",
       "        text-align: right;\n",
       "    }\n",
       "</style>\n",
       "<table border=\"1\" class=\"dataframe\">\n",
       "  <thead>\n",
       "    <tr style=\"text-align: right;\">\n",
       "      <th></th>\n",
       "      <th>id</th>\n",
       "      <th>name</th>\n",
       "      <th>is_closed</th>\n",
       "      <th>latitude</th>\n",
       "      <th>longitude</th>\n",
       "      <th>address</th>\n",
       "      <th>rating</th>\n",
       "      <th>categories</th>\n",
       "    </tr>\n",
       "  </thead>\n",
       "  <tbody>\n",
       "    <tr>\n",
       "      <th>0</th>\n",
       "      <td>oWTn2IzrprsRkPfULtjZtQ</td>\n",
       "      <td>The Burger's Priest</td>\n",
       "      <td>False</td>\n",
       "      <td>43.666700</td>\n",
       "      <td>-79.315585</td>\n",
       "      <td>1636 Queen Street E</td>\n",
       "      <td>3.5</td>\n",
       "      <td>Burgers</td>\n",
       "    </tr>\n",
       "    <tr>\n",
       "      <th>1</th>\n",
       "      <td>2aIgbnGUg8VC0u9iXO-wnQ</td>\n",
       "      <td>O Sushi</td>\n",
       "      <td>False</td>\n",
       "      <td>43.666540</td>\n",
       "      <td>-79.316930</td>\n",
       "      <td>6 Coxwell Avenue</td>\n",
       "      <td>3.5</td>\n",
       "      <td>Sushi Bars</td>\n",
       "    </tr>\n",
       "    <tr>\n",
       "      <th>2</th>\n",
       "      <td>yP71_LfUPnGIRqA2g09RoQ</td>\n",
       "      <td>Lake Inez</td>\n",
       "      <td>False</td>\n",
       "      <td>43.672340</td>\n",
       "      <td>-79.320640</td>\n",
       "      <td>1471 Gerrard Street E</td>\n",
       "      <td>4.5</td>\n",
       "      <td>Bars</td>\n",
       "    </tr>\n",
       "    <tr>\n",
       "      <th>3</th>\n",
       "      <td>Ohengzi4viLEXqhK50aLxg</td>\n",
       "      <td>Jaclyn's</td>\n",
       "      <td>False</td>\n",
       "      <td>43.666270</td>\n",
       "      <td>-79.318020</td>\n",
       "      <td>1588 Queen Street E</td>\n",
       "      <td>4.5</td>\n",
       "      <td>Caribbean</td>\n",
       "    </tr>\n",
       "    <tr>\n",
       "      <th>4</th>\n",
       "      <td>NPHZkn1e-tSJAbo8Zm9rYw</td>\n",
       "      <td>Burrito Bandidos</td>\n",
       "      <td>False</td>\n",
       "      <td>43.666561</td>\n",
       "      <td>-79.316422</td>\n",
       "      <td>1614 Queen Street E</td>\n",
       "      <td>3.5</td>\n",
       "      <td>Mexican</td>\n",
       "    </tr>\n",
       "  </tbody>\n",
       "</table>\n",
       "</div>"
      ],
      "text/plain": [
       "                       id                 name  is_closed   latitude  \\\n",
       "0  oWTn2IzrprsRkPfULtjZtQ  The Burger's Priest      False  43.666700   \n",
       "1  2aIgbnGUg8VC0u9iXO-wnQ              O Sushi      False  43.666540   \n",
       "2  yP71_LfUPnGIRqA2g09RoQ            Lake Inez      False  43.672340   \n",
       "3  Ohengzi4viLEXqhK50aLxg             Jaclyn's      False  43.666270   \n",
       "4  NPHZkn1e-tSJAbo8Zm9rYw     Burrito Bandidos      False  43.666561   \n",
       "\n",
       "   longitude                address  rating  categories  \n",
       "0 -79.315585    1636 Queen Street E     3.5     Burgers  \n",
       "1 -79.316930       6 Coxwell Avenue     3.5  Sushi Bars  \n",
       "2 -79.320640  1471 Gerrard Street E     4.5        Bars  \n",
       "3 -79.318020    1588 Queen Street E     4.5   Caribbean  \n",
       "4 -79.316422    1614 Queen Street E     3.5     Mexican  "
      ]
     },
     "execution_count": 83,
     "metadata": {},
     "output_type": "execute_result"
    }
   ],
   "source": [
    "# filter column before importing to table\n",
    "yelp_df = yelp_df.drop('Unnamed: 0', axis=1)\n",
    "yelp_df.head()\n"
   ]
  },
  {
   "cell_type": "code",
   "execution_count": 84,
   "metadata": {},
   "outputs": [
    {
     "data": {
      "text/html": [
       "<div>\n",
       "<style scoped>\n",
       "    .dataframe tbody tr th:only-of-type {\n",
       "        vertical-align: middle;\n",
       "    }\n",
       "\n",
       "    .dataframe tbody tr th {\n",
       "        vertical-align: top;\n",
       "    }\n",
       "\n",
       "    .dataframe thead th {\n",
       "        text-align: right;\n",
       "    }\n",
       "</style>\n",
       "<table border=\"1\" class=\"dataframe\">\n",
       "  <thead>\n",
       "    <tr style=\"text-align: right;\">\n",
       "      <th></th>\n",
       "      <th>city</th>\n",
       "      <th>station_name</th>\n",
       "      <th>empty_slots</th>\n",
       "      <th>slots</th>\n",
       "      <th>free_bikes</th>\n",
       "      <th>ebikes</th>\n",
       "      <th>latitude</th>\n",
       "      <th>longitude</th>\n",
       "      <th>Yelp_poi_count</th>\n",
       "    </tr>\n",
       "  </thead>\n",
       "  <tbody>\n",
       "    <tr>\n",
       "      <th>0</th>\n",
       "      <td>Toronto</td>\n",
       "      <td>Queen St E / Woodward Ave</td>\n",
       "      <td>12</td>\n",
       "      <td>19</td>\n",
       "      <td>5</td>\n",
       "      <td>0</td>\n",
       "      <td>43.665269</td>\n",
       "      <td>-79.319796</td>\n",
       "      <td>178</td>\n",
       "    </tr>\n",
       "    <tr>\n",
       "      <th>1</th>\n",
       "      <td>Toronto</td>\n",
       "      <td>Primrose Ave / Davenport Rd</td>\n",
       "      <td>12</td>\n",
       "      <td>15</td>\n",
       "      <td>3</td>\n",
       "      <td>0</td>\n",
       "      <td>43.671420</td>\n",
       "      <td>-79.445947</td>\n",
       "      <td>144</td>\n",
       "    </tr>\n",
       "    <tr>\n",
       "      <th>2</th>\n",
       "      <td>Toronto</td>\n",
       "      <td>Queen St. E / Rhodes Ave.</td>\n",
       "      <td>13</td>\n",
       "      <td>23</td>\n",
       "      <td>10</td>\n",
       "      <td>0</td>\n",
       "      <td>43.666224</td>\n",
       "      <td>-79.317693</td>\n",
       "      <td>157</td>\n",
       "    </tr>\n",
       "    <tr>\n",
       "      <th>3</th>\n",
       "      <td>Toronto</td>\n",
       "      <td>Bond St / Queen St E</td>\n",
       "      <td>8</td>\n",
       "      <td>25</td>\n",
       "      <td>16</td>\n",
       "      <td>0</td>\n",
       "      <td>43.653236</td>\n",
       "      <td>-79.376716</td>\n",
       "      <td>1317</td>\n",
       "    </tr>\n",
       "    <tr>\n",
       "      <th>4</th>\n",
       "      <td>Toronto</td>\n",
       "      <td>Church St / Alexander St</td>\n",
       "      <td>12</td>\n",
       "      <td>15</td>\n",
       "      <td>2</td>\n",
       "      <td>0</td>\n",
       "      <td>43.663722</td>\n",
       "      <td>-79.380288</td>\n",
       "      <td>1004</td>\n",
       "    </tr>\n",
       "  </tbody>\n",
       "</table>\n",
       "</div>"
      ],
      "text/plain": [
       "      city                 station_name  empty_slots  slots  free_bikes  \\\n",
       "0  Toronto    Queen St E / Woodward Ave           12     19           5   \n",
       "1  Toronto  Primrose Ave / Davenport Rd           12     15           3   \n",
       "2  Toronto    Queen St. E / Rhodes Ave.           13     23          10   \n",
       "3  Toronto         Bond St / Queen St E            8     25          16   \n",
       "4  Toronto     Church St / Alexander St           12     15           2   \n",
       "\n",
       "   ebikes   latitude  longitude  Yelp_poi_count  \n",
       "0       0  43.665269 -79.319796             178  \n",
       "1       0  43.671420 -79.445947             144  \n",
       "2       0  43.666224 -79.317693             157  \n",
       "3       0  43.653236 -79.376716            1317  \n",
       "4       0  43.663722 -79.380288            1004  "
      ]
     },
     "execution_count": 84,
     "metadata": {},
     "output_type": "execute_result"
    }
   ],
   "source": [
    "# filter column before importing to table\n",
    "station_df = station_df.drop('Unnamed: 0', axis=1)\n",
    "station_df.head()"
   ]
  },
  {
   "cell_type": "code",
   "execution_count": 80,
   "metadata": {},
   "outputs": [],
   "source": [
    "# inserting station records\n",
    "station_df.to_sql('station',con=connection,if_exists='replace',index=False)"
   ]
  },
  {
   "cell_type": "code",
   "execution_count": 64,
   "metadata": {},
   "outputs": [],
   "source": [
    "# inserting foursquare records\n",
    "foursqur_df.to_sql('FOURSQURE',con=connection,if_exists='replace',index=False)"
   ]
  },
  {
   "cell_type": "code",
   "execution_count": 85,
   "metadata": {},
   "outputs": [],
   "source": [
    "# inserting yelp records\n",
    "yelp_df.to_sql('YELP',con=connection,if_exists='replace',index=False)"
   ]
  }
 ],
 "metadata": {
  "kernelspec": {
   "display_name": "Python 3",
   "language": "python",
   "name": "python3"
  },
  "language_info": {
   "codemirror_mode": {
    "name": "ipython",
    "version": 3
   },
   "file_extension": ".py",
   "mimetype": "text/x-python",
   "name": "python",
   "nbconvert_exporter": "python",
   "pygments_lexer": "ipython3",
   "version": "3.9.7"
  }
 },
 "nbformat": 4,
 "nbformat_minor": 4
}
