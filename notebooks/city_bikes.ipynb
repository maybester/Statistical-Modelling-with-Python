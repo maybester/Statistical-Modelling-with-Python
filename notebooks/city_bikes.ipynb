{
 "cells": [
  {
   "attachments": {},
   "cell_type": "markdown",
   "metadata": {},
   "source": [
    "# CityBikes"
   ]
  },
  {
   "attachments": {},
   "cell_type": "markdown",
   "metadata": {},
   "source": [
    "Send a request to CityBikes for the city of your choice. "
   ]
  },
  {
   "attachments": {},
   "cell_type": "markdown",
   "metadata": {},
   "source": [
    "**Documentation:** <br>\n",
    "http://api.citybik.es/v2/ "
   ]
  },
  {
   "cell_type": "code",
   "execution_count": 21,
   "metadata": {},
   "outputs": [],
   "source": [
    "import requests\n",
    "import os\n",
    "from bs4 import BeautifulSoup"
   ]
  },
  {
   "cell_type": "code",
   "execution_count": 32,
   "metadata": {},
   "outputs": [],
   "source": [
    "#send request to CityBikes for city Toronto\n",
    "def get_citybike():\n",
    "\n",
    "    apikey = 'fsq3jdmw2t1Oz1e2bJUOzMKhpdGlE7+aQbkq2+dE0mZOnjQ='\n",
    "\n",
    "    URL = 'http://api.citybik.es/v2/networks/toronto'\n",
    "\n",
    "    response = requests.get(URL)\n",
    "\n",
    "    return response.json()"
   ]
  },
  {
   "attachments": {},
   "cell_type": "markdown",
   "metadata": {},
   "source": [
    "Parse through the response to get the details you want for the bike stations in that city (latitude, longitude, number of bikes). "
   ]
  },
  {
   "cell_type": "code",
   "execution_count": null,
   "metadata": {},
   "outputs": [
    {
     "data": {
      "text/plain": [
       "7"
      ]
     },
     "metadata": {},
     "output_type": "display_data"
    }
   ],
   "source": [
    "citybike_info = get_citybike()\n",
    "len(citybike_info['network'])"
   ]
  },
  {
   "cell_type": "code",
   "execution_count": null,
   "metadata": {},
   "outputs": [
    {
     "name": "stdout",
     "output_type": "stream",
     "text": [
      "company\n",
      "gbfs_href\n",
      "href\n",
      "id\n",
      "location\n",
      "name\n",
      "stations\n"
     ]
    }
   ],
   "source": [
    "for item in citybike_info['network']:\n",
    "    print(item)"
   ]
  },
  {
   "cell_type": "code",
   "execution_count": 64,
   "metadata": {},
   "outputs": [
    {
     "data": {
      "text/plain": [
       "663"
      ]
     },
     "execution_count": 64,
     "metadata": {},
     "output_type": "execute_result"
    }
   ],
   "source": [
    "len(citybike_info['network']['stations'])\n"
   ]
  },
  {
   "attachments": {},
   "cell_type": "markdown",
   "metadata": {},
   "source": [
    "Put your parsed results into a DataFrame."
   ]
  },
  {
   "cell_type": "code",
   "execution_count": 12,
   "metadata": {},
   "outputs": [],
   "source": [
    "import numpy as np\n",
    "import pandas as pd"
   ]
  },
  {
   "cell_type": "code",
   "execution_count": 81,
   "metadata": {},
   "outputs": [],
   "source": [
    "station_list = []\n",
    "for info in res_json['network']['stations']:\n",
    "    network_info = {\n",
    "        'city': 'Toronto',\n",
    "        'station_name': info['name'],\n",
    "        'empty_slots': info['empty_slots'],\n",
    "        'slots': info['extra']['slots'],\n",
    "        'free_bikes': info['free_bikes'],\n",
    "        'ebikes': info['extra']['ebikes'],\n",
    "        'latitude': info['latitude'],\n",
    "        'longitude': info['longitude'],\n",
    "        'timestamp': info['timestamp']\n",
    "    }\n",
    "    station_list.append(network_info)\n",
    "\n",
    "df = pd.DataFrame(station_list)"
   ]
  },
  {
   "cell_type": "code",
   "execution_count": 83,
   "metadata": {},
   "outputs": [
    {
     "data": {
      "text/html": [
       "<div>\n",
       "<style scoped>\n",
       "    .dataframe tbody tr th:only-of-type {\n",
       "        vertical-align: middle;\n",
       "    }\n",
       "\n",
       "    .dataframe tbody tr th {\n",
       "        vertical-align: top;\n",
       "    }\n",
       "\n",
       "    .dataframe thead th {\n",
       "        text-align: right;\n",
       "    }\n",
       "</style>\n",
       "<table border=\"1\" class=\"dataframe\">\n",
       "  <thead>\n",
       "    <tr style=\"text-align: right;\">\n",
       "      <th></th>\n",
       "      <th>city</th>\n",
       "      <th>station_name</th>\n",
       "      <th>empty_slots</th>\n",
       "      <th>slots</th>\n",
       "      <th>free_bikes</th>\n",
       "      <th>ebikes</th>\n",
       "      <th>latitude</th>\n",
       "      <th>longitude</th>\n",
       "      <th>timestamp</th>\n",
       "    </tr>\n",
       "  </thead>\n",
       "  <tbody>\n",
       "    <tr>\n",
       "      <th>0</th>\n",
       "      <td>Toronto</td>\n",
       "      <td>Queen St E / Woodward Ave</td>\n",
       "      <td>12</td>\n",
       "      <td>19</td>\n",
       "      <td>5</td>\n",
       "      <td>0</td>\n",
       "      <td>43.665269</td>\n",
       "      <td>-79.319796</td>\n",
       "      <td>2023-06-05T15:38:08.527000Z</td>\n",
       "    </tr>\n",
       "    <tr>\n",
       "      <th>1</th>\n",
       "      <td>Toronto</td>\n",
       "      <td>Primrose Ave / Davenport Rd</td>\n",
       "      <td>12</td>\n",
       "      <td>15</td>\n",
       "      <td>3</td>\n",
       "      <td>0</td>\n",
       "      <td>43.671420</td>\n",
       "      <td>-79.445947</td>\n",
       "      <td>2023-06-05T15:38:08.527000Z</td>\n",
       "    </tr>\n",
       "    <tr>\n",
       "      <th>2</th>\n",
       "      <td>Toronto</td>\n",
       "      <td>Queen St. E / Rhodes Ave.</td>\n",
       "      <td>13</td>\n",
       "      <td>23</td>\n",
       "      <td>10</td>\n",
       "      <td>0</td>\n",
       "      <td>43.666224</td>\n",
       "      <td>-79.317693</td>\n",
       "      <td>2023-06-05T15:38:08.528000Z</td>\n",
       "    </tr>\n",
       "    <tr>\n",
       "      <th>3</th>\n",
       "      <td>Toronto</td>\n",
       "      <td>Bond St / Queen St E</td>\n",
       "      <td>8</td>\n",
       "      <td>25</td>\n",
       "      <td>16</td>\n",
       "      <td>0</td>\n",
       "      <td>43.653236</td>\n",
       "      <td>-79.376716</td>\n",
       "      <td>2023-06-05T15:38:08.533000Z</td>\n",
       "    </tr>\n",
       "    <tr>\n",
       "      <th>4</th>\n",
       "      <td>Toronto</td>\n",
       "      <td>Church St / Alexander St</td>\n",
       "      <td>12</td>\n",
       "      <td>15</td>\n",
       "      <td>2</td>\n",
       "      <td>0</td>\n",
       "      <td>43.663722</td>\n",
       "      <td>-79.380288</td>\n",
       "      <td>2023-06-05T15:38:08.534000Z</td>\n",
       "    </tr>\n",
       "  </tbody>\n",
       "</table>\n",
       "</div>"
      ],
      "text/plain": [
       "      city                 station_name  empty_slots  slots  free_bikes  \\\n",
       "0  Toronto    Queen St E / Woodward Ave           12     19           5   \n",
       "1  Toronto  Primrose Ave / Davenport Rd           12     15           3   \n",
       "2  Toronto    Queen St. E / Rhodes Ave.           13     23          10   \n",
       "3  Toronto         Bond St / Queen St E            8     25          16   \n",
       "4  Toronto     Church St / Alexander St           12     15           2   \n",
       "\n",
       "   ebikes   latitude  longitude                    timestamp  \n",
       "0       0  43.665269 -79.319796  2023-06-05T15:38:08.527000Z  \n",
       "1       0  43.671420 -79.445947  2023-06-05T15:38:08.527000Z  \n",
       "2       0  43.666224 -79.317693  2023-06-05T15:38:08.528000Z  \n",
       "3       0  43.653236 -79.376716  2023-06-05T15:38:08.533000Z  \n",
       "4       0  43.663722 -79.380288  2023-06-05T15:38:08.534000Z  "
      ]
     },
     "execution_count": 83,
     "metadata": {},
     "output_type": "execute_result"
    }
   ],
   "source": [
    "df.head()"
   ]
  },
  {
   "cell_type": "code",
   "execution_count": 85,
   "metadata": {},
   "outputs": [
    {
     "data": {
      "text/plain": [
       "(663, 9)"
      ]
     },
     "execution_count": 85,
     "metadata": {},
     "output_type": "execute_result"
    }
   ],
   "source": [
    "df.shape"
   ]
  },
  {
   "cell_type": "code",
   "execution_count": 31,
   "metadata": {},
   "outputs": [],
   "source": [
    "# store the dataframe in text file\n",
    "df.to_csv('station_info.tsv', sep='\\t')"
   ]
  }
 ],
 "metadata": {
  "kernelspec": {
   "display_name": "Python 3",
   "language": "python",
   "name": "python3"
  },
  "language_info": {
   "codemirror_mode": {
    "name": "ipython",
    "version": 3
   },
   "file_extension": ".py",
   "mimetype": "text/x-python",
   "name": "python",
   "nbconvert_exporter": "python",
   "pygments_lexer": "ipython3",
   "version": "3.9.7"
  }
 },
 "nbformat": 4,
 "nbformat_minor": 4
}
