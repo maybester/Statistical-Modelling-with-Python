{
 "cells": [
  {
   "cell_type": "code",
   "execution_count": 324,
   "metadata": {},
   "outputs": [],
   "source": [
    "# imports\n",
    "import requests \n",
    "import os \n",
    "import json\n",
    "from bs4 import BeautifulSoup\n",
    "import pandas as pd\n",
    "import numpy as np"
   ]
  },
  {
   "cell_type": "code",
   "execution_count": 235,
   "metadata": {},
   "outputs": [
    {
     "data": {
      "text/html": [
       "<div>\n",
       "<style scoped>\n",
       "    .dataframe tbody tr th:only-of-type {\n",
       "        vertical-align: middle;\n",
       "    }\n",
       "\n",
       "    .dataframe tbody tr th {\n",
       "        vertical-align: top;\n",
       "    }\n",
       "\n",
       "    .dataframe thead th {\n",
       "        text-align: right;\n",
       "    }\n",
       "</style>\n",
       "<table border=\"1\" class=\"dataframe\">\n",
       "  <thead>\n",
       "    <tr style=\"text-align: right;\">\n",
       "      <th></th>\n",
       "      <th>Unnamed: 0</th>\n",
       "      <th>city</th>\n",
       "      <th>station_name</th>\n",
       "      <th>empty_slots</th>\n",
       "      <th>slots</th>\n",
       "      <th>free_bikes</th>\n",
       "      <th>ebikes</th>\n",
       "      <th>latitude</th>\n",
       "      <th>longitude</th>\n",
       "      <th>timestamp</th>\n",
       "    </tr>\n",
       "  </thead>\n",
       "  <tbody>\n",
       "    <tr>\n",
       "      <th>0</th>\n",
       "      <td>0</td>\n",
       "      <td>Toronto</td>\n",
       "      <td>Queen St E / Woodward Ave</td>\n",
       "      <td>12</td>\n",
       "      <td>19</td>\n",
       "      <td>5</td>\n",
       "      <td>0</td>\n",
       "      <td>43.665269</td>\n",
       "      <td>-79.319796</td>\n",
       "      <td>2023-06-05T15:38:08.527000Z</td>\n",
       "    </tr>\n",
       "    <tr>\n",
       "      <th>1</th>\n",
       "      <td>1</td>\n",
       "      <td>Toronto</td>\n",
       "      <td>Primrose Ave / Davenport Rd</td>\n",
       "      <td>12</td>\n",
       "      <td>15</td>\n",
       "      <td>3</td>\n",
       "      <td>0</td>\n",
       "      <td>43.671420</td>\n",
       "      <td>-79.445947</td>\n",
       "      <td>2023-06-05T15:38:08.527000Z</td>\n",
       "    </tr>\n",
       "    <tr>\n",
       "      <th>2</th>\n",
       "      <td>2</td>\n",
       "      <td>Toronto</td>\n",
       "      <td>Queen St. E / Rhodes Ave.</td>\n",
       "      <td>13</td>\n",
       "      <td>23</td>\n",
       "      <td>10</td>\n",
       "      <td>0</td>\n",
       "      <td>43.666224</td>\n",
       "      <td>-79.317693</td>\n",
       "      <td>2023-06-05T15:38:08.528000Z</td>\n",
       "    </tr>\n",
       "    <tr>\n",
       "      <th>3</th>\n",
       "      <td>3</td>\n",
       "      <td>Toronto</td>\n",
       "      <td>Bond St / Queen St E</td>\n",
       "      <td>8</td>\n",
       "      <td>25</td>\n",
       "      <td>16</td>\n",
       "      <td>0</td>\n",
       "      <td>43.653236</td>\n",
       "      <td>-79.376716</td>\n",
       "      <td>2023-06-05T15:38:08.533000Z</td>\n",
       "    </tr>\n",
       "    <tr>\n",
       "      <th>4</th>\n",
       "      <td>4</td>\n",
       "      <td>Toronto</td>\n",
       "      <td>Church St / Alexander St</td>\n",
       "      <td>12</td>\n",
       "      <td>15</td>\n",
       "      <td>2</td>\n",
       "      <td>0</td>\n",
       "      <td>43.663722</td>\n",
       "      <td>-79.380288</td>\n",
       "      <td>2023-06-05T15:38:08.534000Z</td>\n",
       "    </tr>\n",
       "  </tbody>\n",
       "</table>\n",
       "</div>"
      ],
      "text/plain": [
       "   Unnamed: 0     city                 station_name  empty_slots  slots  \\\n",
       "0           0  Toronto    Queen St E / Woodward Ave           12     19   \n",
       "1           1  Toronto  Primrose Ave / Davenport Rd           12     15   \n",
       "2           2  Toronto    Queen St. E / Rhodes Ave.           13     23   \n",
       "3           3  Toronto         Bond St / Queen St E            8     25   \n",
       "4           4  Toronto     Church St / Alexander St           12     15   \n",
       "\n",
       "   free_bikes  ebikes   latitude  longitude                    timestamp  \n",
       "0           5       0  43.665269 -79.319796  2023-06-05T15:38:08.527000Z  \n",
       "1           3       0  43.671420 -79.445947  2023-06-05T15:38:08.527000Z  \n",
       "2          10       0  43.666224 -79.317693  2023-06-05T15:38:08.528000Z  \n",
       "3          16       0  43.653236 -79.376716  2023-06-05T15:38:08.533000Z  \n",
       "4           2       0  43.663722 -79.380288  2023-06-05T15:38:08.534000Z  "
      ]
     },
     "execution_count": 235,
     "metadata": {},
     "output_type": "execute_result"
    }
   ],
   "source": [
    "# get data from city bike api\n",
    "df = pd.read_csv('station_info.tsv', sep='\\t')\n",
    "df.head()"
   ]
  },
  {
   "attachments": {},
   "cell_type": "markdown",
   "metadata": {},
   "source": [
    "# Foursquare"
   ]
  },
  {
   "attachments": {},
   "cell_type": "markdown",
   "metadata": {},
   "source": [
    "Send a request to Foursquare with a small radius (1000m) for all the bike stations in your city of choice. "
   ]
  },
  {
   "cell_type": "code",
   "execution_count": 233,
   "metadata": {},
   "outputs": [],
   "source": [
    "api_key = os.environ[\"FOURSQUARE_API_KEY\"]"
   ]
  },
  {
   "cell_type": "code",
   "execution_count": 254,
   "metadata": {},
   "outputs": [],
   "source": [
    "results_list = []\n",
    "\n",
    "def get_foursquare(api_key):\n",
    "    for index, row in df.iterrows():\n",
    "        lat = row['latitude']\n",
    "        lng = row['longitude']\n",
    "            \n",
    "        url = \"https://api.foursquare.com/v3/places/search?&term=restaurantsblatitude={}&longitude={}&radius=1000&limit=50\".format(\n",
    "                lat,\n",
    "                lng\n",
    "            )\n",
    "\n",
    "        headers = {\"Accept\": \"application/json\"}\n",
    "\n",
    "        headers['Authorization'] = api_key\n",
    "\n",
    "        response = requests.get(url, headers=headers)\n",
    "\n",
    "        results_list.append(response.json())\n",
    "\n",
    "\n",
    "    return print(results_list)\n",
    "\n"
   ]
  },
  {
   "cell_type": "code",
   "execution_count": null,
   "metadata": {},
   "outputs": [],
   "source": [
    "get_foursquare(api_key)"
   ]
  },
  {
   "attachments": {},
   "cell_type": "markdown",
   "metadata": {},
   "source": [
    "Parse through the response to get the POI (such as restaurants, bars, etc) details you want (ratings, name, location, etc)"
   ]
  },
  {
   "cell_type": "code",
   "execution_count": 256,
   "metadata": {},
   "outputs": [
    {
     "data": {
      "text/plain": [
       "50"
      ]
     },
     "execution_count": 256,
     "metadata": {},
     "output_type": "execute_result"
    }
   ],
   "source": [
    " \n",
    "len(results_list[0]['results'])"
   ]
  },
  {
   "cell_type": "code",
   "execution_count": null,
   "metadata": {},
   "outputs": [],
   "source": [
    "foursqr_list = []\n",
    "for results in results_list:\n",
    "    for result in results['results']:\n",
    "    \n",
    "        foursqr_info = {\n",
    "            'id': result['fsq_id'],\n",
    "            'latitude' : result['geocodes']['main']['latitude'],\n",
    "            'longitude' : result['geocodes']['main']['longitude'],\n",
    "            'address' : result['location']['formatted_address']\n",
    "        }\n",
    "        if 'categories' in result and len(result['categories']) != 0 and 'id' in result['categories'][0]:\n",
    "\n",
    "            foursqr_info['categories'] = result['categories'][0]['id']\n",
    "\n",
    "        else:\n",
    "\n",
    "            foursqr_info['categories'] = '' \n",
    "\n",
    "\n",
    "        foursqr_list.append(foursqr_info)\n",
    "    \n",
    "foursqr_df = pd.DataFrame(foursqr_list)        \n"
   ]
  },
  {
   "attachments": {},
   "cell_type": "markdown",
   "metadata": {},
   "source": [
    "Put your parsed results into a DataFrame"
   ]
  },
  {
   "cell_type": "code",
   "execution_count": 245,
   "metadata": {},
   "outputs": [
    {
     "data": {
      "text/html": [
       "<div>\n",
       "<style scoped>\n",
       "    .dataframe tbody tr th:only-of-type {\n",
       "        vertical-align: middle;\n",
       "    }\n",
       "\n",
       "    .dataframe tbody tr th {\n",
       "        vertical-align: top;\n",
       "    }\n",
       "\n",
       "    .dataframe thead th {\n",
       "        text-align: right;\n",
       "    }\n",
       "</style>\n",
       "<table border=\"1\" class=\"dataframe\">\n",
       "  <thead>\n",
       "    <tr style=\"text-align: right;\">\n",
       "      <th></th>\n",
       "      <th>id</th>\n",
       "      <th>latitude</th>\n",
       "      <th>longitude</th>\n",
       "      <th>address</th>\n",
       "      <th>categories</th>\n",
       "    </tr>\n",
       "  </thead>\n",
       "  <tbody>\n",
       "    <tr>\n",
       "      <th>0</th>\n",
       "      <td>4e6d17d71f6e84ca4cab2b7e</td>\n",
       "      <td>43.473657</td>\n",
       "      <td>-80.552997</td>\n",
       "      <td>Columbia St W, Waterloo ON</td>\n",
       "      <td>16023</td>\n",
       "    </tr>\n",
       "    <tr>\n",
       "      <th>1</th>\n",
       "      <td>4f32d38ce4b09fde5f81a25e</td>\n",
       "      <td>43.474919</td>\n",
       "      <td>-80.552671</td>\n",
       "      <td>Bearinger Rd (West mount), Waterloo ON</td>\n",
       "      <td>16019</td>\n",
       "    </tr>\n",
       "    <tr>\n",
       "      <th>2</th>\n",
       "      <td>4c2cf212ae6820a16d281a43</td>\n",
       "      <td>43.474160</td>\n",
       "      <td>-80.552344</td>\n",
       "      <td>270 Columbia St W (University of Waterloo), Wa...</td>\n",
       "      <td>16000</td>\n",
       "    </tr>\n",
       "    <tr>\n",
       "      <th>3</th>\n",
       "      <td>5116a7ede4b07fc30751b131</td>\n",
       "      <td>43.475208</td>\n",
       "      <td>-80.551885</td>\n",
       "      <td>Frank Tompa Dr (Hagey), Waterloo ON</td>\n",
       "      <td>16030</td>\n",
       "    </tr>\n",
       "    <tr>\n",
       "      <th>4</th>\n",
       "      <td>51267601e4b0fa3868af8180</td>\n",
       "      <td>43.476916</td>\n",
       "      <td>-80.552946</td>\n",
       "      <td>275 Frank Tompa Dr, Waterloo ON N2L 0A1</td>\n",
       "      <td>10000</td>\n",
       "    </tr>\n",
       "  </tbody>\n",
       "</table>\n",
       "</div>"
      ],
      "text/plain": [
       "                         id   latitude  longitude  \\\n",
       "0  4e6d17d71f6e84ca4cab2b7e  43.473657 -80.552997   \n",
       "1  4f32d38ce4b09fde5f81a25e  43.474919 -80.552671   \n",
       "2  4c2cf212ae6820a16d281a43  43.474160 -80.552344   \n",
       "3  5116a7ede4b07fc30751b131  43.475208 -80.551885   \n",
       "4  51267601e4b0fa3868af8180  43.476916 -80.552946   \n",
       "\n",
       "                                             address categories  \n",
       "0                         Columbia St W, Waterloo ON      16023  \n",
       "1             Bearinger Rd (West mount), Waterloo ON      16019  \n",
       "2  270 Columbia St W (University of Waterloo), Wa...      16000  \n",
       "3                Frank Tompa Dr (Hagey), Waterloo ON      16030  \n",
       "4            275 Frank Tompa Dr, Waterloo ON N2L 0A1      10000  "
      ]
     },
     "execution_count": 245,
     "metadata": {},
     "output_type": "execute_result"
    }
   ],
   "source": [
    "foursqr_df.head()"
   ]
  },
  {
   "cell_type": "code",
   "execution_count": 166,
   "metadata": {},
   "outputs": [],
   "source": [
    "#foursqr_df.to_csv('foursqur_info.tsv', sep='\\t')"
   ]
  },
  {
   "attachments": {},
   "cell_type": "markdown",
   "metadata": {},
   "source": [
    "# Yelp"
   ]
  },
  {
   "attachments": {},
   "cell_type": "markdown",
   "metadata": {},
   "source": [
    "Send a request to Yelp with a small radius (1000m) for all the bike stations in your city of choice. "
   ]
  },
  {
   "cell_type": "code",
   "execution_count": 259,
   "metadata": {},
   "outputs": [],
   "source": [
    "api_key = os.environ[\"YELP_API_KEY\"]"
   ]
  },
  {
   "cell_type": "code",
   "execution_count": 468,
   "metadata": {},
   "outputs": [],
   "source": [
    "yelp_results_list = []\n",
    "\n",
    "def get_yelp():\n",
    "\n",
    "        for index, row in df.iterrows():\n",
    "                lat = row['latitude']\n",
    "                lng = row['longitude']\n",
    "\n",
    "                yelp_url = \"https://api.yelp.com/v3/businesses/search?latitude={}&longitude={}&radius=1000&limit=20\".format(\n",
    "                        lat,\n",
    "                        lng\n",
    "                )\n",
    "\n",
    "                headers = {\n",
    "                \"accept\": \"application/json\",\n",
    "                \"Authorization\": \"Bearer\"+\" \"+ yelp_api_key\n",
    "                }\n",
    "\n",
    "\n",
    "                yelp_response = requests.get(yelp_url, headers=headers)\n",
    "\n",
    "                yelp_results_list.append(yelp_response.text)\n",
    "\n",
    "        return print(yelp_results_list)\n"
   ]
  },
  {
   "cell_type": "code",
   "execution_count": 353,
   "metadata": {},
   "outputs": [
    {
     "data": {
      "text/plain": [
       "663"
      ]
     },
     "execution_count": 353,
     "metadata": {},
     "output_type": "execute_result"
    }
   ],
   "source": [
    "len(yelp_results_list)\n"
   ]
  },
  {
   "attachments": {},
   "cell_type": "markdown",
   "metadata": {},
   "source": [
    "Parse through the response to get the POI (such as restaurants, bars, etc) details you want (ratings, name, location, etc)"
   ]
  },
  {
   "cell_type": "code",
   "execution_count": null,
   "metadata": {},
   "outputs": [],
   "source": [
    "# parse text data to json format\n",
    "temp_list = []\n",
    "for item in yelp_results_list:\n",
    "\n",
    "    new_1 = json.loads(item)\n",
    "    temp_list.append(new_1)"
   ]
  },
  {
   "cell_type": "code",
   "execution_count": 464,
   "metadata": {},
   "outputs": [],
   "source": [
    "\n",
    "def get_yelp_data():\n",
    "\n",
    "    for item in yelp_results_list:\n",
    "\n",
    "        return print(item)\n",
    "\n"
   ]
  },
  {
   "attachments": {},
   "cell_type": "markdown",
   "metadata": {},
   "source": [
    "Put your parsed results into a DataFrame"
   ]
  },
  {
   "cell_type": "code",
   "execution_count": 459,
   "metadata": {},
   "outputs": [],
   "source": [
    "yelp_list = []\n",
    "for item in temp_list:\n",
    "    \n",
    "    if 'businesses' in item:\n",
    "\n",
    "        for item in item['businesses']:\n",
    "            \n",
    "            yelp_info = {\n",
    "                'id': item['id'],\n",
    "                'name': item['name'],\n",
    "                'is_closed': item['is_closed'],\n",
    "                'latitude': item['coordinates']['latitude'],\n",
    "                'longitude': item['coordinates']['longitude'],\n",
    "                'address': item['location']['address1'],\n",
    "                'rating': item['rating'],\n",
    "                'categories': item['categories'][0]['title']\n",
    "            }\n",
    "            yelp_list.append(yelp_info)\n",
    "\n",
    "yelp_df = pd.DataFrame(yelp_list)"
   ]
  },
  {
   "cell_type": "code",
   "execution_count": 460,
   "metadata": {},
   "outputs": [
    {
     "data": {
      "text/plain": [
       "(9811, 8)"
      ]
     },
     "execution_count": 460,
     "metadata": {},
     "output_type": "execute_result"
    }
   ],
   "source": [
    "yelp_df.shape"
   ]
  },
  {
   "cell_type": "code",
   "execution_count": 463,
   "metadata": {},
   "outputs": [
    {
     "data": {
      "text/html": [
       "<div>\n",
       "<style scoped>\n",
       "    .dataframe tbody tr th:only-of-type {\n",
       "        vertical-align: middle;\n",
       "    }\n",
       "\n",
       "    .dataframe tbody tr th {\n",
       "        vertical-align: top;\n",
       "    }\n",
       "\n",
       "    .dataframe thead th {\n",
       "        text-align: right;\n",
       "    }\n",
       "</style>\n",
       "<table border=\"1\" class=\"dataframe\">\n",
       "  <thead>\n",
       "    <tr style=\"text-align: right;\">\n",
       "      <th></th>\n",
       "      <th>id</th>\n",
       "      <th>name</th>\n",
       "      <th>is_closed</th>\n",
       "      <th>latitude</th>\n",
       "      <th>longitude</th>\n",
       "      <th>address</th>\n",
       "      <th>rating</th>\n",
       "      <th>categories</th>\n",
       "    </tr>\n",
       "  </thead>\n",
       "  <tbody>\n",
       "    <tr>\n",
       "      <th>0</th>\n",
       "      <td>oWTn2IzrprsRkPfULtjZtQ</td>\n",
       "      <td>The Burger's Priest</td>\n",
       "      <td>False</td>\n",
       "      <td>43.666700</td>\n",
       "      <td>-79.315585</td>\n",
       "      <td>1636 Queen Street E</td>\n",
       "      <td>3.5</td>\n",
       "      <td>Burgers</td>\n",
       "    </tr>\n",
       "    <tr>\n",
       "      <th>1</th>\n",
       "      <td>2aIgbnGUg8VC0u9iXO-wnQ</td>\n",
       "      <td>O Sushi</td>\n",
       "      <td>False</td>\n",
       "      <td>43.666540</td>\n",
       "      <td>-79.316930</td>\n",
       "      <td>6 Coxwell Avenue</td>\n",
       "      <td>3.5</td>\n",
       "      <td>Sushi Bars</td>\n",
       "    </tr>\n",
       "    <tr>\n",
       "      <th>2</th>\n",
       "      <td>yP71_LfUPnGIRqA2g09RoQ</td>\n",
       "      <td>Lake Inez</td>\n",
       "      <td>False</td>\n",
       "      <td>43.672340</td>\n",
       "      <td>-79.320640</td>\n",
       "      <td>1471 Gerrard Street E</td>\n",
       "      <td>4.5</td>\n",
       "      <td>Bars</td>\n",
       "    </tr>\n",
       "    <tr>\n",
       "      <th>3</th>\n",
       "      <td>Ohengzi4viLEXqhK50aLxg</td>\n",
       "      <td>Jaclyn's</td>\n",
       "      <td>False</td>\n",
       "      <td>43.666270</td>\n",
       "      <td>-79.318020</td>\n",
       "      <td>1588 Queen Street E</td>\n",
       "      <td>4.5</td>\n",
       "      <td>Caribbean</td>\n",
       "    </tr>\n",
       "    <tr>\n",
       "      <th>4</th>\n",
       "      <td>NPHZkn1e-tSJAbo8Zm9rYw</td>\n",
       "      <td>Burrito Bandidos</td>\n",
       "      <td>False</td>\n",
       "      <td>43.666561</td>\n",
       "      <td>-79.316422</td>\n",
       "      <td>1614 Queen Street E</td>\n",
       "      <td>3.5</td>\n",
       "      <td>Mexican</td>\n",
       "    </tr>\n",
       "  </tbody>\n",
       "</table>\n",
       "</div>"
      ],
      "text/plain": [
       "                       id                 name  is_closed   latitude  \\\n",
       "0  oWTn2IzrprsRkPfULtjZtQ  The Burger's Priest      False  43.666700   \n",
       "1  2aIgbnGUg8VC0u9iXO-wnQ              O Sushi      False  43.666540   \n",
       "2  yP71_LfUPnGIRqA2g09RoQ            Lake Inez      False  43.672340   \n",
       "3  Ohengzi4viLEXqhK50aLxg             Jaclyn's      False  43.666270   \n",
       "4  NPHZkn1e-tSJAbo8Zm9rYw     Burrito Bandidos      False  43.666561   \n",
       "\n",
       "   longitude                address  rating  categories  \n",
       "0 -79.315585    1636 Queen Street E     3.5     Burgers  \n",
       "1 -79.316930       6 Coxwell Avenue     3.5  Sushi Bars  \n",
       "2 -79.320640  1471 Gerrard Street E     4.5        Bars  \n",
       "3 -79.318020    1588 Queen Street E     4.5   Caribbean  \n",
       "4 -79.316422    1614 Queen Street E     3.5     Mexican  "
      ]
     },
     "execution_count": 463,
     "metadata": {},
     "output_type": "execute_result"
    }
   ],
   "source": [
    "yelp_df.head()"
   ]
  },
  {
   "cell_type": "code",
   "execution_count": 462,
   "metadata": {},
   "outputs": [],
   "source": [
    "#yelp_df.to_csv('yelp_info.tsv', sep='\\t')"
   ]
  },
  {
   "attachments": {},
   "cell_type": "markdown",
   "metadata": {},
   "source": [
    "# Comparing Results"
   ]
  },
  {
   "attachments": {},
   "cell_type": "markdown",
   "metadata": {},
   "source": [
    "Which API provided you with more complete data? Provide an explanation. "
   ]
  },
  {
   "attachments": {},
   "cell_type": "markdown",
   "metadata": {},
   "source": [
    "1. Foursquare API returns with more data (18565 rows) while Yelp API returns with less (9811 rows). However, from a sample size perspective, both of the APIs return with enough data for modelling.\n",
    "\n",
    "2. In Yelp API, extra information such as close/open status of the location and rating can be accessed which may help for more exploratory analysis.\n",
    "\n",
    "3. In Foursquare API, each of the category has a unique id so category of location can be easily accessed while method like regular expression may be adopted to get the same results from Yelp API."
   ]
  },
  {
   "attachments": {},
   "cell_type": "markdown",
   "metadata": {},
   "source": [
    "Get the top 10 restaurants according to their rating"
   ]
  },
  {
   "cell_type": "code",
   "execution_count": 467,
   "metadata": {},
   "outputs": [
    {
     "data": {
      "text/html": [
       "<div>\n",
       "<style scoped>\n",
       "    .dataframe tbody tr th:only-of-type {\n",
       "        vertical-align: middle;\n",
       "    }\n",
       "\n",
       "    .dataframe tbody tr th {\n",
       "        vertical-align: top;\n",
       "    }\n",
       "\n",
       "    .dataframe thead th {\n",
       "        text-align: right;\n",
       "    }\n",
       "</style>\n",
       "<table border=\"1\" class=\"dataframe\">\n",
       "  <thead>\n",
       "    <tr style=\"text-align: right;\">\n",
       "      <th></th>\n",
       "      <th>id</th>\n",
       "      <th>name</th>\n",
       "      <th>is_closed</th>\n",
       "      <th>latitude</th>\n",
       "      <th>longitude</th>\n",
       "      <th>address</th>\n",
       "      <th>rating</th>\n",
       "      <th>categories</th>\n",
       "    </tr>\n",
       "  </thead>\n",
       "  <tbody>\n",
       "    <tr>\n",
       "      <th>844</th>\n",
       "      <td>BPKtVKuEfubfU2LZFSlf1w</td>\n",
       "      <td>Gurume Sushi</td>\n",
       "      <td>False</td>\n",
       "      <td>43.661391</td>\n",
       "      <td>-79.380995</td>\n",
       "      <td>45 Carlton Street</td>\n",
       "      <td>5.0</td>\n",
       "      <td>Sushi Bars</td>\n",
       "    </tr>\n",
       "    <tr>\n",
       "      <th>5180</th>\n",
       "      <td>H5oLlt9G6ifU11n86oP5Fg</td>\n",
       "      <td>COBS Bread</td>\n",
       "      <td>False</td>\n",
       "      <td>43.651403</td>\n",
       "      <td>-79.475677</td>\n",
       "      <td>2204 Bloor Street W</td>\n",
       "      <td>5.0</td>\n",
       "      <td>Bakeries</td>\n",
       "    </tr>\n",
       "    <tr>\n",
       "      <th>8184</th>\n",
       "      <td>Ado06qsu31LI6ETUgSJq0Q</td>\n",
       "      <td>Kebab Kountry</td>\n",
       "      <td>False</td>\n",
       "      <td>43.762769</td>\n",
       "      <td>-79.215067</td>\n",
       "      <td>3750 Lawrence Avenue E</td>\n",
       "      <td>5.0</td>\n",
       "      <td>Turkish</td>\n",
       "    </tr>\n",
       "    <tr>\n",
       "      <th>8778</th>\n",
       "      <td>jwd7cmkQV0z-saVoOnXdIA</td>\n",
       "      <td>Rani Fast Food</td>\n",
       "      <td>False</td>\n",
       "      <td>43.790339</td>\n",
       "      <td>-79.174210</td>\n",
       "      <td>3600 Ellesmere Road</td>\n",
       "      <td>5.0</td>\n",
       "      <td>Fast Food</td>\n",
       "    </tr>\n",
       "    <tr>\n",
       "      <th>8777</th>\n",
       "      <td>d4buwaJL5br7NQbibXtIoA</td>\n",
       "      <td>2045 Spicyspace</td>\n",
       "      <td>False</td>\n",
       "      <td>43.790200</td>\n",
       "      <td>-79.195420</td>\n",
       "      <td>790 Military Trail</td>\n",
       "      <td>5.0</td>\n",
       "      <td>Comfort Food</td>\n",
       "    </tr>\n",
       "    <tr>\n",
       "      <th>5636</th>\n",
       "      <td>BPKtVKuEfubfU2LZFSlf1w</td>\n",
       "      <td>Gurume Sushi</td>\n",
       "      <td>False</td>\n",
       "      <td>43.661391</td>\n",
       "      <td>-79.380995</td>\n",
       "      <td>45 Carlton Street</td>\n",
       "      <td>5.0</td>\n",
       "      <td>Sushi Bars</td>\n",
       "    </tr>\n",
       "    <tr>\n",
       "      <th>5219</th>\n",
       "      <td>MEH-A03F0tSTrjLnAHh-PQ</td>\n",
       "      <td>The Cafe</td>\n",
       "      <td>False</td>\n",
       "      <td>43.679600</td>\n",
       "      <td>-79.357819</td>\n",
       "      <td>855 Broadview Avenue</td>\n",
       "      <td>5.0</td>\n",
       "      <td>Cafes</td>\n",
       "    </tr>\n",
       "    <tr>\n",
       "      <th>3028</th>\n",
       "      <td>8aTClyVNbDbmylGE93WSyw</td>\n",
       "      <td>Tacos Moras</td>\n",
       "      <td>False</td>\n",
       "      <td>43.682495</td>\n",
       "      <td>-79.420669</td>\n",
       "      <td>547 St Clair Avenue W</td>\n",
       "      <td>5.0</td>\n",
       "      <td>Mexican</td>\n",
       "    </tr>\n",
       "    <tr>\n",
       "      <th>1124</th>\n",
       "      <td>sg9k_AhqasHCma-_JnGLsw</td>\n",
       "      <td>Palace Pier Park</td>\n",
       "      <td>False</td>\n",
       "      <td>43.631230</td>\n",
       "      <td>-79.472008</td>\n",
       "      <td></td>\n",
       "      <td>5.0</td>\n",
       "      <td>Parks</td>\n",
       "    </tr>\n",
       "    <tr>\n",
       "      <th>8055</th>\n",
       "      <td>17ukE9MpDvz2fEWQ1YKYkA</td>\n",
       "      <td>Pizza Nova</td>\n",
       "      <td>False</td>\n",
       "      <td>43.746840</td>\n",
       "      <td>-79.199330</td>\n",
       "      <td>123 Guildwood Pkwy</td>\n",
       "      <td>5.0</td>\n",
       "      <td>Pizza</td>\n",
       "    </tr>\n",
       "  </tbody>\n",
       "</table>\n",
       "</div>"
      ],
      "text/plain": [
       "                          id              name  is_closed   latitude  \\\n",
       "844   BPKtVKuEfubfU2LZFSlf1w      Gurume Sushi      False  43.661391   \n",
       "5180  H5oLlt9G6ifU11n86oP5Fg        COBS Bread      False  43.651403   \n",
       "8184  Ado06qsu31LI6ETUgSJq0Q     Kebab Kountry      False  43.762769   \n",
       "8778  jwd7cmkQV0z-saVoOnXdIA    Rani Fast Food      False  43.790339   \n",
       "8777  d4buwaJL5br7NQbibXtIoA   2045 Spicyspace      False  43.790200   \n",
       "5636  BPKtVKuEfubfU2LZFSlf1w      Gurume Sushi      False  43.661391   \n",
       "5219  MEH-A03F0tSTrjLnAHh-PQ          The Cafe      False  43.679600   \n",
       "3028  8aTClyVNbDbmylGE93WSyw       Tacos Moras      False  43.682495   \n",
       "1124  sg9k_AhqasHCma-_JnGLsw  Palace Pier Park      False  43.631230   \n",
       "8055  17ukE9MpDvz2fEWQ1YKYkA        Pizza Nova      False  43.746840   \n",
       "\n",
       "      longitude                 address  rating    categories  \n",
       "844  -79.380995       45 Carlton Street     5.0    Sushi Bars  \n",
       "5180 -79.475677     2204 Bloor Street W     5.0      Bakeries  \n",
       "8184 -79.215067  3750 Lawrence Avenue E     5.0       Turkish  \n",
       "8778 -79.174210     3600 Ellesmere Road     5.0     Fast Food  \n",
       "8777 -79.195420      790 Military Trail     5.0  Comfort Food  \n",
       "5636 -79.380995       45 Carlton Street     5.0    Sushi Bars  \n",
       "5219 -79.357819    855 Broadview Avenue     5.0         Cafes  \n",
       "3028 -79.420669   547 St Clair Avenue W     5.0       Mexican  \n",
       "1124 -79.472008                             5.0         Parks  \n",
       "8055 -79.199330      123 Guildwood Pkwy     5.0         Pizza  "
      ]
     },
     "execution_count": 467,
     "metadata": {},
     "output_type": "execute_result"
    }
   ],
   "source": [
    "sorted_yelp_df = yelp_df.sort_values('rating',ascending=False)\n",
    "sorted_yelp_df.head(10)"
   ]
  }
 ],
 "metadata": {
  "kernelspec": {
   "display_name": "Python 3",
   "language": "python",
   "name": "python3"
  },
  "language_info": {
   "codemirror_mode": {
    "name": "ipython",
    "version": 3
   },
   "file_extension": ".py",
   "mimetype": "text/x-python",
   "name": "python",
   "nbconvert_exporter": "python",
   "pygments_lexer": "ipython3",
   "version": "3.9.7"
  }
 },
 "nbformat": 4,
 "nbformat_minor": 4
}
