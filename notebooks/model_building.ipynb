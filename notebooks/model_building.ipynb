{
 "cells": [
  {
   "attachments": {},
   "cell_type": "markdown",
   "metadata": {},
   "source": [
    "Build a regression model."
   ]
  },
  {
   "cell_type": "code",
   "execution_count": 21,
   "metadata": {},
   "outputs": [],
   "source": [
    "import pandas as pd\n",
    "import numpy as np\n",
    "\n",
    "import matplotlib.pyplot as plt\n",
    "import seaborn as sns"
   ]
  },
  {
   "cell_type": "code",
   "execution_count": 13,
   "metadata": {},
   "outputs": [],
   "source": [
    "df = pd.read_csv('poi_count.tsv', sep='\\t')"
   ]
  },
  {
   "cell_type": "code",
   "execution_count": 16,
   "metadata": {},
   "outputs": [
    {
     "data": {
      "text/html": [
       "<div>\n",
       "<style scoped>\n",
       "    .dataframe tbody tr th:only-of-type {\n",
       "        vertical-align: middle;\n",
       "    }\n",
       "\n",
       "    .dataframe tbody tr th {\n",
       "        vertical-align: top;\n",
       "    }\n",
       "\n",
       "    .dataframe thead th {\n",
       "        text-align: right;\n",
       "    }\n",
       "</style>\n",
       "<table border=\"1\" class=\"dataframe\">\n",
       "  <thead>\n",
       "    <tr style=\"text-align: right;\">\n",
       "      <th></th>\n",
       "      <th>city</th>\n",
       "      <th>station_name</th>\n",
       "      <th>empty_slots</th>\n",
       "      <th>slots</th>\n",
       "      <th>free_bikes</th>\n",
       "      <th>ebikes</th>\n",
       "      <th>latitude</th>\n",
       "      <th>longitude</th>\n",
       "      <th>timestamp</th>\n",
       "      <th>foursquare_num_poi</th>\n",
       "      <th>Yelp_poi_count</th>\n",
       "    </tr>\n",
       "  </thead>\n",
       "  <tbody>\n",
       "    <tr>\n",
       "      <th>0</th>\n",
       "      <td>Toronto</td>\n",
       "      <td>Queen St E / Woodward Ave</td>\n",
       "      <td>12</td>\n",
       "      <td>19</td>\n",
       "      <td>5</td>\n",
       "      <td>0</td>\n",
       "      <td>43.665269</td>\n",
       "      <td>-79.319796</td>\n",
       "      <td>2023-06-05T15:38:08.527000Z</td>\n",
       "      <td>0</td>\n",
       "      <td>178</td>\n",
       "    </tr>\n",
       "    <tr>\n",
       "      <th>1</th>\n",
       "      <td>Toronto</td>\n",
       "      <td>Primrose Ave / Davenport Rd</td>\n",
       "      <td>12</td>\n",
       "      <td>15</td>\n",
       "      <td>3</td>\n",
       "      <td>0</td>\n",
       "      <td>43.671420</td>\n",
       "      <td>-79.445947</td>\n",
       "      <td>2023-06-05T15:38:08.527000Z</td>\n",
       "      <td>0</td>\n",
       "      <td>144</td>\n",
       "    </tr>\n",
       "    <tr>\n",
       "      <th>2</th>\n",
       "      <td>Toronto</td>\n",
       "      <td>Queen St. E / Rhodes Ave.</td>\n",
       "      <td>13</td>\n",
       "      <td>23</td>\n",
       "      <td>10</td>\n",
       "      <td>0</td>\n",
       "      <td>43.666224</td>\n",
       "      <td>-79.317693</td>\n",
       "      <td>2023-06-05T15:38:08.528000Z</td>\n",
       "      <td>0</td>\n",
       "      <td>157</td>\n",
       "    </tr>\n",
       "    <tr>\n",
       "      <th>3</th>\n",
       "      <td>Toronto</td>\n",
       "      <td>Bond St / Queen St E</td>\n",
       "      <td>8</td>\n",
       "      <td>25</td>\n",
       "      <td>16</td>\n",
       "      <td>0</td>\n",
       "      <td>43.653236</td>\n",
       "      <td>-79.376716</td>\n",
       "      <td>2023-06-05T15:38:08.533000Z</td>\n",
       "      <td>0</td>\n",
       "      <td>1317</td>\n",
       "    </tr>\n",
       "    <tr>\n",
       "      <th>4</th>\n",
       "      <td>Toronto</td>\n",
       "      <td>Church St / Alexander St</td>\n",
       "      <td>12</td>\n",
       "      <td>15</td>\n",
       "      <td>2</td>\n",
       "      <td>0</td>\n",
       "      <td>43.663722</td>\n",
       "      <td>-79.380288</td>\n",
       "      <td>2023-06-05T15:38:08.534000Z</td>\n",
       "      <td>0</td>\n",
       "      <td>1004</td>\n",
       "    </tr>\n",
       "  </tbody>\n",
       "</table>\n",
       "</div>"
      ],
      "text/plain": [
       "      city                 station_name  empty_slots  slots  free_bikes  \\\n",
       "0  Toronto    Queen St E / Woodward Ave           12     19           5   \n",
       "1  Toronto  Primrose Ave / Davenport Rd           12     15           3   \n",
       "2  Toronto    Queen St. E / Rhodes Ave.           13     23          10   \n",
       "3  Toronto         Bond St / Queen St E            8     25          16   \n",
       "4  Toronto     Church St / Alexander St           12     15           2   \n",
       "\n",
       "   ebikes   latitude  longitude                    timestamp  \\\n",
       "0       0  43.665269 -79.319796  2023-06-05T15:38:08.527000Z   \n",
       "1       0  43.671420 -79.445947  2023-06-05T15:38:08.527000Z   \n",
       "2       0  43.666224 -79.317693  2023-06-05T15:38:08.528000Z   \n",
       "3       0  43.653236 -79.376716  2023-06-05T15:38:08.533000Z   \n",
       "4       0  43.663722 -79.380288  2023-06-05T15:38:08.534000Z   \n",
       "\n",
       "   foursquare_num_poi  Yelp_poi_count  \n",
       "0                   0             178  \n",
       "1                   0             144  \n",
       "2                   0             157  \n",
       "3                   0            1317  \n",
       "4                   0            1004  "
      ]
     },
     "execution_count": 16,
     "metadata": {},
     "output_type": "execute_result"
    }
   ],
   "source": [
    "df = df.drop('Unnamed: 0',axis=1)\n",
    "df = df.drop('Unnamed: 0.1',axis=1)\n",
    "df.head(5)"
   ]
  },
  {
   "cell_type": "code",
   "execution_count": 14,
   "metadata": {},
   "outputs": [
    {
     "data": {
      "text/plain": [
       "(663, 13)"
      ]
     },
     "execution_count": 14,
     "metadata": {},
     "output_type": "execute_result"
    }
   ],
   "source": [
    "df.shape"
   ]
  },
  {
   "cell_type": "code",
   "execution_count": 11,
   "metadata": {},
   "outputs": [],
   "source": [
    "num_feats = df.dtypes[df.dtypes != object].index.tolist()"
   ]
  },
  {
   "cell_type": "code",
   "execution_count": 12,
   "metadata": {},
   "outputs": [
    {
     "data": {
      "text/html": [
       "<div>\n",
       "<style scoped>\n",
       "    .dataframe tbody tr th:only-of-type {\n",
       "        vertical-align: middle;\n",
       "    }\n",
       "\n",
       "    .dataframe tbody tr th {\n",
       "        vertical-align: top;\n",
       "    }\n",
       "\n",
       "    .dataframe thead th {\n",
       "        text-align: right;\n",
       "    }\n",
       "</style>\n",
       "<table border=\"1\" class=\"dataframe\">\n",
       "  <thead>\n",
       "    <tr style=\"text-align: right;\">\n",
       "      <th></th>\n",
       "      <th>empty_slots</th>\n",
       "      <th>slots</th>\n",
       "      <th>free_bikes</th>\n",
       "      <th>ebikes</th>\n",
       "      <th>latitude</th>\n",
       "      <th>longitude</th>\n",
       "      <th>foursquare_num_poi</th>\n",
       "      <th>Yelp_poi_count</th>\n",
       "    </tr>\n",
       "  </thead>\n",
       "  <tbody>\n",
       "    <tr>\n",
       "      <th>count</th>\n",
       "      <td>663.000000</td>\n",
       "      <td>663.000000</td>\n",
       "      <td>663.000000</td>\n",
       "      <td>663.000000</td>\n",
       "      <td>663.000000</td>\n",
       "      <td>663.000000</td>\n",
       "      <td>663.0</td>\n",
       "      <td>663.000000</td>\n",
       "    </tr>\n",
       "    <tr>\n",
       "      <th>mean</th>\n",
       "      <td>10.491704</td>\n",
       "      <td>18.882353</td>\n",
       "      <td>8.006033</td>\n",
       "      <td>0.150830</td>\n",
       "      <td>43.667176</td>\n",
       "      <td>-79.393309</td>\n",
       "      <td>0.0</td>\n",
       "      <td>418.322775</td>\n",
       "    </tr>\n",
       "    <tr>\n",
       "      <th>std</th>\n",
       "      <td>7.040850</td>\n",
       "      <td>6.296887</td>\n",
       "      <td>7.373503</td>\n",
       "      <td>0.876788</td>\n",
       "      <td>0.029916</td>\n",
       "      <td>0.057880</td>\n",
       "      <td>0.0</td>\n",
       "      <td>384.321737</td>\n",
       "    </tr>\n",
       "    <tr>\n",
       "      <th>min</th>\n",
       "      <td>0.000000</td>\n",
       "      <td>0.000000</td>\n",
       "      <td>0.000000</td>\n",
       "      <td>0.000000</td>\n",
       "      <td>43.588077</td>\n",
       "      <td>-79.544491</td>\n",
       "      <td>0.0</td>\n",
       "      <td>0.000000</td>\n",
       "    </tr>\n",
       "    <tr>\n",
       "      <th>25%</th>\n",
       "      <td>5.000000</td>\n",
       "      <td>15.000000</td>\n",
       "      <td>2.000000</td>\n",
       "      <td>0.000000</td>\n",
       "      <td>43.648685</td>\n",
       "      <td>-79.425058</td>\n",
       "      <td>0.0</td>\n",
       "      <td>130.000000</td>\n",
       "    </tr>\n",
       "    <tr>\n",
       "      <th>50%</th>\n",
       "      <td>11.000000</td>\n",
       "      <td>19.000000</td>\n",
       "      <td>6.000000</td>\n",
       "      <td>0.000000</td>\n",
       "      <td>43.661547</td>\n",
       "      <td>-79.393249</td>\n",
       "      <td>0.0</td>\n",
       "      <td>286.000000</td>\n",
       "    </tr>\n",
       "    <tr>\n",
       "      <th>75%</th>\n",
       "      <td>15.000000</td>\n",
       "      <td>22.000000</td>\n",
       "      <td>13.000000</td>\n",
       "      <td>0.000000</td>\n",
       "      <td>43.678361</td>\n",
       "      <td>-79.368560</td>\n",
       "      <td>0.0</td>\n",
       "      <td>595.500000</td>\n",
       "    </tr>\n",
       "    <tr>\n",
       "      <th>max</th>\n",
       "      <td>44.000000</td>\n",
       "      <td>57.000000</td>\n",
       "      <td>46.000000</td>\n",
       "      <td>14.000000</td>\n",
       "      <td>43.788319</td>\n",
       "      <td>-79.123505</td>\n",
       "      <td>0.0</td>\n",
       "      <td>1653.000000</td>\n",
       "    </tr>\n",
       "  </tbody>\n",
       "</table>\n",
       "</div>"
      ],
      "text/plain": [
       "       empty_slots       slots  free_bikes      ebikes    latitude  \\\n",
       "count   663.000000  663.000000  663.000000  663.000000  663.000000   \n",
       "mean     10.491704   18.882353    8.006033    0.150830   43.667176   \n",
       "std       7.040850    6.296887    7.373503    0.876788    0.029916   \n",
       "min       0.000000    0.000000    0.000000    0.000000   43.588077   \n",
       "25%       5.000000   15.000000    2.000000    0.000000   43.648685   \n",
       "50%      11.000000   19.000000    6.000000    0.000000   43.661547   \n",
       "75%      15.000000   22.000000   13.000000    0.000000   43.678361   \n",
       "max      44.000000   57.000000   46.000000   14.000000   43.788319   \n",
       "\n",
       "        longitude  foursquare_num_poi  Yelp_poi_count  \n",
       "count  663.000000               663.0      663.000000  \n",
       "mean   -79.393309                 0.0      418.322775  \n",
       "std      0.057880                 0.0      384.321737  \n",
       "min    -79.544491                 0.0        0.000000  \n",
       "25%    -79.425058                 0.0      130.000000  \n",
       "50%    -79.393249                 0.0      286.000000  \n",
       "75%    -79.368560                 0.0      595.500000  \n",
       "max    -79.123505                 0.0     1653.000000  "
      ]
     },
     "execution_count": 12,
     "metadata": {},
     "output_type": "execute_result"
    }
   ],
   "source": [
    "# descriptive stats\n",
    "df[num_feats].describe()"
   ]
  },
  {
   "cell_type": "code",
   "execution_count": 11,
   "metadata": {},
   "outputs": [
    {
     "name": "stdout",
     "output_type": "stream",
     "text": [
      "<class 'pandas.core.frame.DataFrame'>\n",
      "RangeIndex: 663 entries, 0 to 662\n",
      "Data columns (total 11 columns):\n",
      " #   Column              Non-Null Count  Dtype  \n",
      "---  ------              --------------  -----  \n",
      " 0   city                663 non-null    object \n",
      " 1   station_name        663 non-null    object \n",
      " 2   empty_slots         663 non-null    int64  \n",
      " 3   slots               663 non-null    int64  \n",
      " 4   free_bikes          663 non-null    int64  \n",
      " 5   ebikes              663 non-null    int64  \n",
      " 6   latitude            663 non-null    float64\n",
      " 7   longitude           663 non-null    float64\n",
      " 8   timestamp           663 non-null    object \n",
      " 9   foursquare_num_poi  663 non-null    int64  \n",
      " 10  Yelp_poi_count      663 non-null    int64  \n",
      "dtypes: float64(2), int64(6), object(3)\n",
      "memory usage: 57.1+ KB\n"
     ]
    }
   ],
   "source": [
    "#check for missing values\n",
    "df.info()"
   ]
  },
  {
   "cell_type": "code",
   "execution_count": 12,
   "metadata": {},
   "outputs": [
    {
     "name": "stdout",
     "output_type": "stream",
     "text": [
      "0\n"
     ]
    }
   ],
   "source": [
    "# check for duplicates for Id\n",
    "nameUnique = len(set(df.station_name))\n",
    "nameTotal = df.shape[0]\n",
    "namedupe = nameTotal - nameUnique\n",
    "print(namedupe)\n"
   ]
  },
  {
   "attachments": {},
   "cell_type": "markdown",
   "metadata": {},
   "source": [
    "Provide model output and an interpretation of the results. "
   ]
  },
  {
   "cell_type": "code",
   "execution_count": 22,
   "metadata": {},
   "outputs": [
    {
     "data": {
      "image/png": "[encoded data removed]",
      "text/plain": [
       "<Figure size 864x720 with 9 Axes>"
      ]
     },
     "metadata": {
      "needs_background": "light"
     },
     "output_type": "display_data"
    }
   ],
   "source": [
    "df.hist(figsize=(12,10))\n",
    "plt.tight_layout()\n",
    "plt.show()"
   ]
  },
  {
   "cell_type": "code",
   "execution_count": 14,
   "metadata": {},
   "outputs": [
    {
     "name": "stdout",
     "output_type": "stream",
     "text": [
      "['city', 'station_name', 'empty_slots', 'slots', 'free_bikes', 'ebikes', 'latitude', 'longitude', 'timestamp', 'foursquare_num_poi', 'Yelp_poi_count']\n"
     ]
    }
   ],
   "source": [
    "print(list(df.columns))"
   ]
  },
  {
   "cell_type": "code",
   "execution_count": 26,
   "metadata": {},
   "outputs": [
    {
     "data": {
      "text/html": [
       "<div>\n",
       "<style scoped>\n",
       "    .dataframe tbody tr th:only-of-type {\n",
       "        vertical-align: middle;\n",
       "    }\n",
       "\n",
       "    .dataframe tbody tr th {\n",
       "        vertical-align: top;\n",
       "    }\n",
       "\n",
       "    .dataframe thead th {\n",
       "        text-align: right;\n",
       "    }\n",
       "</style>\n",
       "<table border=\"1\" class=\"dataframe\">\n",
       "  <thead>\n",
       "    <tr style=\"text-align: right;\">\n",
       "      <th></th>\n",
       "      <th>city</th>\n",
       "      <th>station_name</th>\n",
       "      <th>empty_slots</th>\n",
       "      <th>slots</th>\n",
       "      <th>free_bikes</th>\n",
       "      <th>ebikes</th>\n",
       "      <th>Yelp_poi_count</th>\n",
       "    </tr>\n",
       "  </thead>\n",
       "  <tbody>\n",
       "    <tr>\n",
       "      <th>0</th>\n",
       "      <td>Toronto</td>\n",
       "      <td>Queen St E / Woodward Ave</td>\n",
       "      <td>12</td>\n",
       "      <td>19</td>\n",
       "      <td>5</td>\n",
       "      <td>0</td>\n",
       "      <td>178</td>\n",
       "    </tr>\n",
       "    <tr>\n",
       "      <th>1</th>\n",
       "      <td>Toronto</td>\n",
       "      <td>Primrose Ave / Davenport Rd</td>\n",
       "      <td>12</td>\n",
       "      <td>15</td>\n",
       "      <td>3</td>\n",
       "      <td>0</td>\n",
       "      <td>144</td>\n",
       "    </tr>\n",
       "    <tr>\n",
       "      <th>2</th>\n",
       "      <td>Toronto</td>\n",
       "      <td>Queen St. E / Rhodes Ave.</td>\n",
       "      <td>13</td>\n",
       "      <td>23</td>\n",
       "      <td>10</td>\n",
       "      <td>0</td>\n",
       "      <td>157</td>\n",
       "    </tr>\n",
       "    <tr>\n",
       "      <th>3</th>\n",
       "      <td>Toronto</td>\n",
       "      <td>Bond St / Queen St E</td>\n",
       "      <td>8</td>\n",
       "      <td>25</td>\n",
       "      <td>16</td>\n",
       "      <td>0</td>\n",
       "      <td>1317</td>\n",
       "    </tr>\n",
       "    <tr>\n",
       "      <th>4</th>\n",
       "      <td>Toronto</td>\n",
       "      <td>Church St / Alexander St</td>\n",
       "      <td>12</td>\n",
       "      <td>15</td>\n",
       "      <td>2</td>\n",
       "      <td>0</td>\n",
       "      <td>1004</td>\n",
       "    </tr>\n",
       "    <tr>\n",
       "      <th>...</th>\n",
       "      <td>...</td>\n",
       "      <td>...</td>\n",
       "      <td>...</td>\n",
       "      <td>...</td>\n",
       "      <td>...</td>\n",
       "      <td>...</td>\n",
       "      <td>...</td>\n",
       "    </tr>\n",
       "    <tr>\n",
       "      <th>658</th>\n",
       "      <td>Toronto</td>\n",
       "      <td>Lynn William St / Pirandello St</td>\n",
       "      <td>17</td>\n",
       "      <td>17</td>\n",
       "      <td>0</td>\n",
       "      <td>0</td>\n",
       "      <td>386</td>\n",
       "    </tr>\n",
       "    <tr>\n",
       "      <th>659</th>\n",
       "      <td>Toronto</td>\n",
       "      <td>Bay St / Queens Quay W (Ferry Terminal)</td>\n",
       "      <td>5</td>\n",
       "      <td>34</td>\n",
       "      <td>28</td>\n",
       "      <td>0</td>\n",
       "      <td>434</td>\n",
       "    </tr>\n",
       "    <tr>\n",
       "      <th>660</th>\n",
       "      <td>Toronto</td>\n",
       "      <td>College St / Huron St</td>\n",
       "      <td>0</td>\n",
       "      <td>18</td>\n",
       "      <td>16</td>\n",
       "      <td>0</td>\n",
       "      <td>506</td>\n",
       "    </tr>\n",
       "    <tr>\n",
       "      <th>661</th>\n",
       "      <td>Toronto</td>\n",
       "      <td>Ossington Ave / Bruce St</td>\n",
       "      <td>10</td>\n",
       "      <td>15</td>\n",
       "      <td>4</td>\n",
       "      <td>0</td>\n",
       "      <td>538</td>\n",
       "    </tr>\n",
       "    <tr>\n",
       "      <th>662</th>\n",
       "      <td>Toronto</td>\n",
       "      <td>Northern Dancer Blvd / Lake Shore Blvd E</td>\n",
       "      <td>24</td>\n",
       "      <td>27</td>\n",
       "      <td>3</td>\n",
       "      <td>0</td>\n",
       "      <td>82</td>\n",
       "    </tr>\n",
       "  </tbody>\n",
       "</table>\n",
       "<p>663 rows × 7 columns</p>\n",
       "</div>"
      ],
      "text/plain": [
       "        city                              station_name  empty_slots  slots  \\\n",
       "0    Toronto                 Queen St E / Woodward Ave           12     19   \n",
       "1    Toronto               Primrose Ave / Davenport Rd           12     15   \n",
       "2    Toronto                 Queen St. E / Rhodes Ave.           13     23   \n",
       "3    Toronto                      Bond St / Queen St E            8     25   \n",
       "4    Toronto                  Church St / Alexander St           12     15   \n",
       "..       ...                                       ...          ...    ...   \n",
       "658  Toronto          Lynn William St / Pirandello St            17     17   \n",
       "659  Toronto   Bay St / Queens Quay W (Ferry Terminal)            5     34   \n",
       "660  Toronto                     College St / Huron St            0     18   \n",
       "661  Toronto                  Ossington Ave / Bruce St           10     15   \n",
       "662  Toronto  Northern Dancer Blvd / Lake Shore Blvd E           24     27   \n",
       "\n",
       "     free_bikes  ebikes  Yelp_poi_count  \n",
       "0             5       0             178  \n",
       "1             3       0             144  \n",
       "2            10       0             157  \n",
       "3            16       0            1317  \n",
       "4             2       0            1004  \n",
       "..          ...     ...             ...  \n",
       "658           0       0             386  \n",
       "659          28       0             434  \n",
       "660          16       0             506  \n",
       "661           4       0             538  \n",
       "662           3       0              82  \n",
       "\n",
       "[663 rows x 7 columns]"
      ]
     },
     "execution_count": 26,
     "metadata": {},
     "output_type": "execute_result"
    }
   ],
   "source": [
    "df_visual = df.drop(['latitude','longitude','foursquare_num_poi','timestamp'],axis=1)\n",
    "df_visual"
   ]
  },
  {
   "cell_type": "code",
   "execution_count": 28,
   "metadata": {},
   "outputs": [
    {
     "data": {
      "text/plain": [
       "Text(0.5, 1.0, 'correlation heatmap')"
      ]
     },
     "execution_count": 28,
     "metadata": {},
     "output_type": "execute_result"
    },
    {
     "data": {
      "image/png": "[encoded data removed]",
      "text/plain": [
       "<Figure size 864x720 with 2 Axes>"
      ]
     },
     "metadata": {
      "needs_background": "light"
     },
     "output_type": "display_data"
    }
   ],
   "source": [
    "# correlation matrix \n",
    "correlation_matrix = df_visual.corr()\n",
    "#f, ax = plt.plots(figsize=(12,9))\n",
    "plt.figure(figsize=(12,10))\n",
    "sns.heatmap(correlation_matrix,annot=True,cmap='coolwarm')\n",
    "\n",
    "plt.title('correlation heatmap')"
   ]
  },
  {
   "cell_type": "code",
   "execution_count": 71,
   "metadata": {},
   "outputs": [],
   "source": [
    "import statsmodels.api as sm\n",
    "from sklearn.preprocessing import StandardScaler\n",
    "from statsmodels.stats.outliers_influence import variance_inflation_factor"
   ]
  },
  {
   "cell_type": "code",
   "execution_count": null,
   "metadata": {},
   "outputs": [],
   "source": [
    "num_feats.remove('latitude')\n",
    "num_feats.remove('longitude')\n",
    "num_feats.remove('Yelp_poi_count')"
   ]
  },
  {
   "cell_type": "code",
   "execution_count": 45,
   "metadata": {},
   "outputs": [
    {
     "data": {
      "text/plain": [
       "['empty_slots', 'slots', 'free_bikes', 'ebikes']"
      ]
     },
     "execution_count": 45,
     "metadata": {},
     "output_type": "execute_result"
    }
   ],
   "source": [
    "num_feats"
   ]
  },
  {
   "cell_type": "code",
   "execution_count": 46,
   "metadata": {},
   "outputs": [],
   "source": [
    "x = df[num_feats]\n",
    "y = df['Yelp_poi_count']"
   ]
  },
  {
   "cell_type": "code",
   "execution_count": 52,
   "metadata": {},
   "outputs": [
    {
     "name": "stdout",
     "output_type": "stream",
     "text": [
      "                                 OLS Regression Results                                \n",
      "=======================================================================================\n",
      "Dep. Variable:         Yelp_poi_count   R-squared (uncentered):                   0.600\n",
      "Model:                            OLS   Adj. R-squared (uncentered):              0.597\n",
      "Method:                 Least Squares   F-statistic:                              246.9\n",
      "Date:                Mon, 17 Jul 2023   Prob (F-statistic):                   1.82e-129\n",
      "Time:                        19:22:24   Log-Likelihood:                         -4841.9\n",
      "No. Observations:                 663   AIC:                                      9692.\n",
      "Df Residuals:                     659   BIC:                                      9710.\n",
      "Df Model:                           4                                                  \n",
      "Covariance Type:            nonrobust                                                  \n",
      "===============================================================================\n",
      "                  coef    std err          t      P>|t|      [0.025      0.975]\n",
      "-------------------------------------------------------------------------------\n",
      "empty_slots   -55.2671     12.985     -4.256      0.000     -80.764     -29.770\n",
      "slots          64.9038     12.753      5.089      0.000      39.862      89.946\n",
      "free_bikes    -32.1757     13.082     -2.460      0.014     -57.862      -6.489\n",
      "ebikes        -31.9662     16.318     -1.959      0.051     -64.008       0.076\n",
      "==============================================================================\n",
      "Omnibus:                       15.974   Durbin-Watson:                   1.518\n",
      "Prob(Omnibus):                  0.000   Jarque-Bera (JB):               16.569\n",
      "Skew:                           0.358   Prob(JB):                     0.000252\n",
      "Kurtosis:                       3.295   Cond. No.                         39.1\n",
      "==============================================================================\n",
      "\n",
      "Notes:\n",
      "[1] R² is computed without centering (uncentered) since the model does not contain a constant.\n",
      "[2] Standard Errors assume that the covariance matrix of the errors is correctly specified.\n"
     ]
    },
    {
     "name": "stderr",
     "output_type": "stream",
     "text": [
      "/Users/siyimo/opt/anaconda3/lib/python3.9/site-packages/statsmodels/tsa/tsatools.py:142: FutureWarning: In a future version of pandas all arguments of concat except for the argument 'objs' will be keyword-only\n",
      "  x = pd.concat(x[::order], 1)\n"
     ]
    }
   ],
   "source": [
    "x_cost = sm.add_constant(x) # adding a constant \n",
    "model = sm.OLS(y,x).fit()\n",
    "print(model.summary())"
   ]
  },
  {
   "cell_type": "code",
   "execution_count": 58,
   "metadata": {},
   "outputs": [
    {
     "data": {
      "image/png": "[encoded data removed]",
      "text/plain": [
       "<Figure size 432x288 with 1 Axes>"
      ]
     },
     "metadata": {
      "needs_background": "light"
     },
     "output_type": "display_data"
    }
   ],
   "source": [
    "# check assumptions\n",
    "\n",
    "residuals = model.resid\n",
    "\n",
    "# check for independence of residuals\n",
    "sm.graphics.tsa.plot_acf(residuals, lags=20)\n",
    "plt.xlabel('Lag')\n",
    "plt.ylabel('Autocorrelation')\n",
    "plt.title('Autocorrelation of Residuals')\n",
    "plt.show()"
   ]
  },
  {
   "cell_type": "code",
   "execution_count": 59,
   "metadata": {},
   "outputs": [
    {
     "data": {
      "image/png": "[encoded data removed]",
      "text/plain": [
       "<Figure size 432x288 with 1 Axes>"
      ]
     },
     "metadata": {
      "needs_background": "light"
     },
     "output_type": "display_data"
    }
   ],
   "source": [
    "# check for homoscedasticity with residual plot\n",
    "plt.scatter(model.fittedvalues, residuals)\n",
    "plt.xlabel('Fitted Values')\n",
    "plt.ylabel('Residuals')\n",
    "plt.title('Residuals vs Fitted Values')\n",
    "plt.axhline(0,color='red',linestyle='dashed')\n",
    "plt.show()"
   ]
  },
  {
   "cell_type": "code",
   "execution_count": 60,
   "metadata": {},
   "outputs": [
    {
     "data": {
      "image/png": "[encoded data removed]",
      "text/plain": [
       "<Figure size 432x288 with 1 Axes>"
      ]
     },
     "metadata": {
      "needs_background": "light"
     },
     "output_type": "display_data"
    }
   ],
   "source": [
    "plt.hist(residuals,bins=15)\n",
    "plt.xlabel('Residuals')\n",
    "plt.ylabel('Frequency')\n",
    "plt.title('Histogram of residuals')\n",
    "plt.show()"
   ]
  },
  {
   "cell_type": "code",
   "execution_count": 61,
   "metadata": {},
   "outputs": [
    {
     "name": "stdout",
     "output_type": "stream",
     "text": [
      "Shapiro-Wilk Test - p-value: 6.599618700420251e-06\n"
     ]
    }
   ],
   "source": [
    "from scipy.stats import shapiro\n",
    "shapiro_test_stat, shapiro_p_value = shapiro(residuals)\n",
    "print(\"Shapiro-Wilk Test - p-value:\", shapiro_p_value)"
   ]
  },
  {
   "cell_type": "code",
   "execution_count": 66,
   "metadata": {},
   "outputs": [
    {
     "name": "stdout",
     "output_type": "stream",
     "text": [
      "4\n"
     ]
    }
   ],
   "source": [
    "print(x.shape[1])"
   ]
  },
  {
   "cell_type": "code",
   "execution_count": 69,
   "metadata": {},
   "outputs": [
    {
     "name": "stdout",
     "output_type": "stream",
     "text": [
      "      Features         VIF\n",
      "0  empty_slots  137.379678\n",
      "1        slots  328.977063\n",
      "2   free_bikes  103.440021\n",
      "3       ebikes    1.074582\n"
     ]
    }
   ],
   "source": [
    "# check for multicollinearity\n",
    "vif = pd.DataFrame()\n",
    "vif['Features'] = x.columns\n",
    "vif['VIF'] = [variance_inflation_factor(x.values, i) for i in range(x.shape[1])]\n",
    "print(vif)"
   ]
  },
  {
   "cell_type": "code",
   "execution_count": 72,
   "metadata": {},
   "outputs": [],
   "source": [
    "scaler = StandardScaler()\n",
    "x_scaled = scaler.fit_transform(x)"
   ]
  },
  {
   "cell_type": "code",
   "execution_count": 73,
   "metadata": {},
   "outputs": [
    {
     "name": "stdout",
     "output_type": "stream",
     "text": [
      "                                 OLS Regression Results                                \n",
      "=======================================================================================\n",
      "Dep. Variable:         Yelp_poi_count   R-squared (uncentered):                   0.096\n",
      "Model:                            OLS   Adj. R-squared (uncentered):              0.091\n",
      "Method:                 Least Squares   F-statistic:                              17.51\n",
      "Date:                Mon, 17 Jul 2023   Prob (F-statistic):                    1.16e-13\n",
      "Time:                        19:38:09   Log-Likelihood:                         -5112.0\n",
      "No. Observations:                 663   AIC:                                  1.023e+04\n",
      "Df Residuals:                     659   BIC:                                  1.025e+04\n",
      "Df Model:                           4                                                  \n",
      "Covariance Type:            nonrobust                                                  \n",
      "==============================================================================\n",
      "                 coef    std err          t      P>|t|      [0.025      0.975]\n",
      "------------------------------------------------------------------------------\n",
      "x1          -402.1628    137.317     -2.929      0.004    -671.795    -132.531\n",
      "x2           306.4230    122.105      2.509      0.012      66.661     546.185\n",
      "x3          -235.9488    144.851     -1.629      0.104    -520.374      48.477\n",
      "x4           -19.9321     21.539     -0.925      0.355     -62.226      22.362\n",
      "==============================================================================\n",
      "Omnibus:                       28.675   Durbin-Watson:                   0.609\n",
      "Prob(Omnibus):                  0.000   Jarque-Bera (JB):               31.671\n",
      "Skew:                           0.535   Prob(JB):                     1.33e-07\n",
      "Kurtosis:                       2.986   Cond. No.                         14.4\n",
      "==============================================================================\n",
      "\n",
      "Notes:\n",
      "[1] R² is computed without centering (uncentered) since the model does not contain a constant.\n",
      "[2] Standard Errors assume that the covariance matrix of the errors is correctly specified.\n"
     ]
    }
   ],
   "source": [
    "model_scaled = sm.OLS(y,x_scaled).fit()\n",
    "print(model_scaled.summary())"
   ]
  },
  {
   "attachments": {},
   "cell_type": "markdown",
   "metadata": {},
   "source": [
    "# Stretch"
   ]
  },
  {
   "attachments": {},
   "cell_type": "markdown",
   "metadata": {},
   "source": [
    "How can you turn the regression model into a classification model?"
   ]
  },
  {
   "cell_type": "code",
   "execution_count": null,
   "metadata": {},
   "outputs": [],
   "source": []
  }
 ],
 "metadata": {
  "kernelspec": {
   "display_name": "Python 3",
   "language": "python",
   "name": "python3"
  },
  "language_info": {
   "codemirror_mode": {
    "name": "ipython",
    "version": 3
   },
   "file_extension": ".py",
   "mimetype": "text/x-python",
   "name": "python",
   "nbconvert_exporter": "python",
   "pygments_lexer": "ipython3",
   "version": "3.9.7"
  }
 },
 "nbformat": 4,
 "nbformat_minor": 4
}
