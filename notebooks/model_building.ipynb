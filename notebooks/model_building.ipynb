{
 "cells": [
  {
   "attachments": {},
   "cell_type": "markdown",
   "metadata": {},
   "source": [
    "Build a regression model."
   ]
  },
  {
   "cell_type": "code",
   "execution_count": 1,
   "metadata": {},
   "outputs": [],
   "source": [
    "import pandas as pd\n",
    "import numpy as np\n",
    "\n",
    "import matplotlib as plt\n",
    "import seaborn as sns"
   ]
  },
  {
   "cell_type": "code",
   "execution_count": 2,
   "metadata": {},
   "outputs": [
    {
     "data": {
      "text/html": [
       "<div>\n",
       "<style scoped>\n",
       "    .dataframe tbody tr th:only-of-type {\n",
       "        vertical-align: middle;\n",
       "    }\n",
       "\n",
       "    .dataframe tbody tr th {\n",
       "        vertical-align: top;\n",
       "    }\n",
       "\n",
       "    .dataframe thead th {\n",
       "        text-align: right;\n",
       "    }\n",
       "</style>\n",
       "<table border=\"1\" class=\"dataframe\">\n",
       "  <thead>\n",
       "    <tr style=\"text-align: right;\">\n",
       "      <th></th>\n",
       "      <th>Unnamed: 0</th>\n",
       "      <th>Unnamed: 0.1</th>\n",
       "      <th>city</th>\n",
       "      <th>station_name</th>\n",
       "      <th>empty_slots</th>\n",
       "      <th>slots</th>\n",
       "      <th>free_bikes</th>\n",
       "      <th>ebikes</th>\n",
       "      <th>latitude</th>\n",
       "      <th>longitude</th>\n",
       "      <th>timestamp</th>\n",
       "      <th>foursquare_num_poi</th>\n",
       "      <th>Yelp_poi_count</th>\n",
       "    </tr>\n",
       "  </thead>\n",
       "  <tbody>\n",
       "    <tr>\n",
       "      <th>0</th>\n",
       "      <td>0</td>\n",
       "      <td>0</td>\n",
       "      <td>Toronto</td>\n",
       "      <td>Queen St E / Woodward Ave</td>\n",
       "      <td>12</td>\n",
       "      <td>19</td>\n",
       "      <td>5</td>\n",
       "      <td>0</td>\n",
       "      <td>43.665269</td>\n",
       "      <td>-79.319796</td>\n",
       "      <td>2023-06-05T15:38:08.527000Z</td>\n",
       "      <td>0</td>\n",
       "      <td>178</td>\n",
       "    </tr>\n",
       "    <tr>\n",
       "      <th>1</th>\n",
       "      <td>1</td>\n",
       "      <td>1</td>\n",
       "      <td>Toronto</td>\n",
       "      <td>Primrose Ave / Davenport Rd</td>\n",
       "      <td>12</td>\n",
       "      <td>15</td>\n",
       "      <td>3</td>\n",
       "      <td>0</td>\n",
       "      <td>43.671420</td>\n",
       "      <td>-79.445947</td>\n",
       "      <td>2023-06-05T15:38:08.527000Z</td>\n",
       "      <td>0</td>\n",
       "      <td>144</td>\n",
       "    </tr>\n",
       "    <tr>\n",
       "      <th>2</th>\n",
       "      <td>2</td>\n",
       "      <td>2</td>\n",
       "      <td>Toronto</td>\n",
       "      <td>Queen St. E / Rhodes Ave.</td>\n",
       "      <td>13</td>\n",
       "      <td>23</td>\n",
       "      <td>10</td>\n",
       "      <td>0</td>\n",
       "      <td>43.666224</td>\n",
       "      <td>-79.317693</td>\n",
       "      <td>2023-06-05T15:38:08.528000Z</td>\n",
       "      <td>0</td>\n",
       "      <td>157</td>\n",
       "    </tr>\n",
       "    <tr>\n",
       "      <th>3</th>\n",
       "      <td>3</td>\n",
       "      <td>3</td>\n",
       "      <td>Toronto</td>\n",
       "      <td>Bond St / Queen St E</td>\n",
       "      <td>8</td>\n",
       "      <td>25</td>\n",
       "      <td>16</td>\n",
       "      <td>0</td>\n",
       "      <td>43.653236</td>\n",
       "      <td>-79.376716</td>\n",
       "      <td>2023-06-05T15:38:08.533000Z</td>\n",
       "      <td>0</td>\n",
       "      <td>1317</td>\n",
       "    </tr>\n",
       "    <tr>\n",
       "      <th>4</th>\n",
       "      <td>4</td>\n",
       "      <td>4</td>\n",
       "      <td>Toronto</td>\n",
       "      <td>Church St / Alexander St</td>\n",
       "      <td>12</td>\n",
       "      <td>15</td>\n",
       "      <td>2</td>\n",
       "      <td>0</td>\n",
       "      <td>43.663722</td>\n",
       "      <td>-79.380288</td>\n",
       "      <td>2023-06-05T15:38:08.534000Z</td>\n",
       "      <td>0</td>\n",
       "      <td>1004</td>\n",
       "    </tr>\n",
       "    <tr>\n",
       "      <th>...</th>\n",
       "      <td>...</td>\n",
       "      <td>...</td>\n",
       "      <td>...</td>\n",
       "      <td>...</td>\n",
       "      <td>...</td>\n",
       "      <td>...</td>\n",
       "      <td>...</td>\n",
       "      <td>...</td>\n",
       "      <td>...</td>\n",
       "      <td>...</td>\n",
       "      <td>...</td>\n",
       "      <td>...</td>\n",
       "      <td>...</td>\n",
       "    </tr>\n",
       "    <tr>\n",
       "      <th>658</th>\n",
       "      <td>658</td>\n",
       "      <td>658</td>\n",
       "      <td>Toronto</td>\n",
       "      <td>Lynn William St / Pirandello St</td>\n",
       "      <td>17</td>\n",
       "      <td>17</td>\n",
       "      <td>0</td>\n",
       "      <td>0</td>\n",
       "      <td>43.639125</td>\n",
       "      <td>-79.414232</td>\n",
       "      <td>2023-06-05T15:38:08.960000Z</td>\n",
       "      <td>0</td>\n",
       "      <td>386</td>\n",
       "    </tr>\n",
       "    <tr>\n",
       "      <th>659</th>\n",
       "      <td>659</td>\n",
       "      <td>659</td>\n",
       "      <td>Toronto</td>\n",
       "      <td>Bay St / Queens Quay W (Ferry Terminal)</td>\n",
       "      <td>5</td>\n",
       "      <td>34</td>\n",
       "      <td>28</td>\n",
       "      <td>0</td>\n",
       "      <td>43.640978</td>\n",
       "      <td>-79.376785</td>\n",
       "      <td>2023-06-05T15:38:09.023000Z</td>\n",
       "      <td>0</td>\n",
       "      <td>434</td>\n",
       "    </tr>\n",
       "    <tr>\n",
       "      <th>660</th>\n",
       "      <td>660</td>\n",
       "      <td>660</td>\n",
       "      <td>Toronto</td>\n",
       "      <td>College St / Huron St</td>\n",
       "      <td>0</td>\n",
       "      <td>18</td>\n",
       "      <td>16</td>\n",
       "      <td>0</td>\n",
       "      <td>43.658148</td>\n",
       "      <td>-79.398167</td>\n",
       "      <td>2023-06-05T15:38:08.596000Z</td>\n",
       "      <td>0</td>\n",
       "      <td>506</td>\n",
       "    </tr>\n",
       "    <tr>\n",
       "      <th>661</th>\n",
       "      <td>661</td>\n",
       "      <td>661</td>\n",
       "      <td>Toronto</td>\n",
       "      <td>Ossington Ave / Bruce St</td>\n",
       "      <td>10</td>\n",
       "      <td>15</td>\n",
       "      <td>4</td>\n",
       "      <td>0</td>\n",
       "      <td>43.645702</td>\n",
       "      <td>-79.419332</td>\n",
       "      <td>2023-06-05T15:38:08.977000Z</td>\n",
       "      <td>0</td>\n",
       "      <td>538</td>\n",
       "    </tr>\n",
       "    <tr>\n",
       "      <th>662</th>\n",
       "      <td>662</td>\n",
       "      <td>662</td>\n",
       "      <td>Toronto</td>\n",
       "      <td>Northern Dancer Blvd / Lake Shore Blvd E</td>\n",
       "      <td>24</td>\n",
       "      <td>27</td>\n",
       "      <td>3</td>\n",
       "      <td>0</td>\n",
       "      <td>43.663162</td>\n",
       "      <td>-79.309765</td>\n",
       "      <td>2023-06-05T15:38:09.006000Z</td>\n",
       "      <td>0</td>\n",
       "      <td>82</td>\n",
       "    </tr>\n",
       "  </tbody>\n",
       "</table>\n",
       "<p>663 rows × 13 columns</p>\n",
       "</div>"
      ],
      "text/plain": [
       "     Unnamed: 0  Unnamed: 0.1     city  \\\n",
       "0             0             0  Toronto   \n",
       "1             1             1  Toronto   \n",
       "2             2             2  Toronto   \n",
       "3             3             3  Toronto   \n",
       "4             4             4  Toronto   \n",
       "..          ...           ...      ...   \n",
       "658         658           658  Toronto   \n",
       "659         659           659  Toronto   \n",
       "660         660           660  Toronto   \n",
       "661         661           661  Toronto   \n",
       "662         662           662  Toronto   \n",
       "\n",
       "                                 station_name  empty_slots  slots  free_bikes  \\\n",
       "0                   Queen St E / Woodward Ave           12     19           5   \n",
       "1                 Primrose Ave / Davenport Rd           12     15           3   \n",
       "2                   Queen St. E / Rhodes Ave.           13     23          10   \n",
       "3                        Bond St / Queen St E            8     25          16   \n",
       "4                    Church St / Alexander St           12     15           2   \n",
       "..                                        ...          ...    ...         ...   \n",
       "658          Lynn William St / Pirandello St            17     17           0   \n",
       "659   Bay St / Queens Quay W (Ferry Terminal)            5     34          28   \n",
       "660                     College St / Huron St            0     18          16   \n",
       "661                  Ossington Ave / Bruce St           10     15           4   \n",
       "662  Northern Dancer Blvd / Lake Shore Blvd E           24     27           3   \n",
       "\n",
       "     ebikes   latitude  longitude                    timestamp  \\\n",
       "0         0  43.665269 -79.319796  2023-06-05T15:38:08.527000Z   \n",
       "1         0  43.671420 -79.445947  2023-06-05T15:38:08.527000Z   \n",
       "2         0  43.666224 -79.317693  2023-06-05T15:38:08.528000Z   \n",
       "3         0  43.653236 -79.376716  2023-06-05T15:38:08.533000Z   \n",
       "4         0  43.663722 -79.380288  2023-06-05T15:38:08.534000Z   \n",
       "..      ...        ...        ...                          ...   \n",
       "658       0  43.639125 -79.414232  2023-06-05T15:38:08.960000Z   \n",
       "659       0  43.640978 -79.376785  2023-06-05T15:38:09.023000Z   \n",
       "660       0  43.658148 -79.398167  2023-06-05T15:38:08.596000Z   \n",
       "661       0  43.645702 -79.419332  2023-06-05T15:38:08.977000Z   \n",
       "662       0  43.663162 -79.309765  2023-06-05T15:38:09.006000Z   \n",
       "\n",
       "     foursquare_num_poi  Yelp_poi_count  \n",
       "0                     0             178  \n",
       "1                     0             144  \n",
       "2                     0             157  \n",
       "3                     0            1317  \n",
       "4                     0            1004  \n",
       "..                  ...             ...  \n",
       "658                   0             386  \n",
       "659                   0             434  \n",
       "660                   0             506  \n",
       "661                   0             538  \n",
       "662                   0              82  \n",
       "\n",
       "[663 rows x 13 columns]"
      ]
     },
     "execution_count": 2,
     "metadata": {},
     "output_type": "execute_result"
    }
   ],
   "source": [
    "df = pd.read_csv('poi_count.tsv', sep='\\t')\n",
    "df"
   ]
  },
  {
   "cell_type": "code",
   "execution_count": 6,
   "metadata": {},
   "outputs": [
    {
     "data": {
      "text/html": [
       "<div>\n",
       "<style scoped>\n",
       "    .dataframe tbody tr th:only-of-type {\n",
       "        vertical-align: middle;\n",
       "    }\n",
       "\n",
       "    .dataframe tbody tr th {\n",
       "        vertical-align: top;\n",
       "    }\n",
       "\n",
       "    .dataframe thead th {\n",
       "        text-align: right;\n",
       "    }\n",
       "</style>\n",
       "<table border=\"1\" class=\"dataframe\">\n",
       "  <thead>\n",
       "    <tr style=\"text-align: right;\">\n",
       "      <th></th>\n",
       "      <th>city</th>\n",
       "      <th>station_name</th>\n",
       "      <th>empty_slots</th>\n",
       "      <th>slots</th>\n",
       "      <th>free_bikes</th>\n",
       "      <th>ebikes</th>\n",
       "      <th>latitude</th>\n",
       "      <th>longitude</th>\n",
       "      <th>timestamp</th>\n",
       "      <th>foursquare_num_poi</th>\n",
       "      <th>Yelp_poi_count</th>\n",
       "    </tr>\n",
       "  </thead>\n",
       "  <tbody>\n",
       "    <tr>\n",
       "      <th>0</th>\n",
       "      <td>Toronto</td>\n",
       "      <td>Queen St E / Woodward Ave</td>\n",
       "      <td>12</td>\n",
       "      <td>19</td>\n",
       "      <td>5</td>\n",
       "      <td>0</td>\n",
       "      <td>43.665269</td>\n",
       "      <td>-79.319796</td>\n",
       "      <td>2023-06-05T15:38:08.527000Z</td>\n",
       "      <td>0</td>\n",
       "      <td>178</td>\n",
       "    </tr>\n",
       "    <tr>\n",
       "      <th>1</th>\n",
       "      <td>Toronto</td>\n",
       "      <td>Primrose Ave / Davenport Rd</td>\n",
       "      <td>12</td>\n",
       "      <td>15</td>\n",
       "      <td>3</td>\n",
       "      <td>0</td>\n",
       "      <td>43.671420</td>\n",
       "      <td>-79.445947</td>\n",
       "      <td>2023-06-05T15:38:08.527000Z</td>\n",
       "      <td>0</td>\n",
       "      <td>144</td>\n",
       "    </tr>\n",
       "    <tr>\n",
       "      <th>2</th>\n",
       "      <td>Toronto</td>\n",
       "      <td>Queen St. E / Rhodes Ave.</td>\n",
       "      <td>13</td>\n",
       "      <td>23</td>\n",
       "      <td>10</td>\n",
       "      <td>0</td>\n",
       "      <td>43.666224</td>\n",
       "      <td>-79.317693</td>\n",
       "      <td>2023-06-05T15:38:08.528000Z</td>\n",
       "      <td>0</td>\n",
       "      <td>157</td>\n",
       "    </tr>\n",
       "    <tr>\n",
       "      <th>3</th>\n",
       "      <td>Toronto</td>\n",
       "      <td>Bond St / Queen St E</td>\n",
       "      <td>8</td>\n",
       "      <td>25</td>\n",
       "      <td>16</td>\n",
       "      <td>0</td>\n",
       "      <td>43.653236</td>\n",
       "      <td>-79.376716</td>\n",
       "      <td>2023-06-05T15:38:08.533000Z</td>\n",
       "      <td>0</td>\n",
       "      <td>1317</td>\n",
       "    </tr>\n",
       "    <tr>\n",
       "      <th>4</th>\n",
       "      <td>Toronto</td>\n",
       "      <td>Church St / Alexander St</td>\n",
       "      <td>12</td>\n",
       "      <td>15</td>\n",
       "      <td>2</td>\n",
       "      <td>0</td>\n",
       "      <td>43.663722</td>\n",
       "      <td>-79.380288</td>\n",
       "      <td>2023-06-05T15:38:08.534000Z</td>\n",
       "      <td>0</td>\n",
       "      <td>1004</td>\n",
       "    </tr>\n",
       "  </tbody>\n",
       "</table>\n",
       "</div>"
      ],
      "text/plain": [
       "      city                 station_name  empty_slots  slots  free_bikes  \\\n",
       "0  Toronto    Queen St E / Woodward Ave           12     19           5   \n",
       "1  Toronto  Primrose Ave / Davenport Rd           12     15           3   \n",
       "2  Toronto    Queen St. E / Rhodes Ave.           13     23          10   \n",
       "3  Toronto         Bond St / Queen St E            8     25          16   \n",
       "4  Toronto     Church St / Alexander St           12     15           2   \n",
       "\n",
       "   ebikes   latitude  longitude                    timestamp  \\\n",
       "0       0  43.665269 -79.319796  2023-06-05T15:38:08.527000Z   \n",
       "1       0  43.671420 -79.445947  2023-06-05T15:38:08.527000Z   \n",
       "2       0  43.666224 -79.317693  2023-06-05T15:38:08.528000Z   \n",
       "3       0  43.653236 -79.376716  2023-06-05T15:38:08.533000Z   \n",
       "4       0  43.663722 -79.380288  2023-06-05T15:38:08.534000Z   \n",
       "\n",
       "   foursquare_num_poi  Yelp_poi_count  \n",
       "0                   0             178  \n",
       "1                   0             144  \n",
       "2                   0             157  \n",
       "3                   0            1317  \n",
       "4                   0            1004  "
      ]
     },
     "execution_count": 6,
     "metadata": {},
     "output_type": "execute_result"
    }
   ],
   "source": [
    "df = df.drop('Unnamed: 0',axis=1)\n",
    "df = df.drop('Unnamed: 0.1',axis=1)\n",
    "df.head(5)"
   ]
  },
  {
   "cell_type": "code",
   "execution_count": 4,
   "metadata": {},
   "outputs": [
    {
     "data": {
      "text/plain": [
       "city                   object\n",
       "station_name           object\n",
       "empty_slots             int64\n",
       "slots                   int64\n",
       "free_bikes              int64\n",
       "ebikes                  int64\n",
       "latitude              float64\n",
       "longitude             float64\n",
       "timestamp              object\n",
       "foursquare_num_poi      int64\n",
       "Yelp_poi_count          int64\n",
       "dtype: object"
      ]
     },
     "execution_count": 4,
     "metadata": {},
     "output_type": "execute_result"
    }
   ],
   "source": [
    "df.dtypes"
   ]
  },
  {
   "cell_type": "code",
   "execution_count": null,
   "metadata": {},
   "outputs": [
    {
     "data": {
      "text/html": [
       "<div>\n",
       "<style scoped>\n",
       "    .dataframe tbody tr th:only-of-type {\n",
       "        vertical-align: middle;\n",
       "    }\n",
       "\n",
       "    .dataframe tbody tr th {\n",
       "        vertical-align: top;\n",
       "    }\n",
       "\n",
       "    .dataframe thead th {\n",
       "        text-align: right;\n",
       "    }\n",
       "</style>\n",
       "<table border=\"1\" class=\"dataframe\">\n",
       "  <thead>\n",
       "    <tr style=\"text-align: right;\">\n",
       "      <th></th>\n",
       "      <th>empty_slots</th>\n",
       "      <th>slots</th>\n",
       "      <th>free_bikes</th>\n",
       "      <th>ebikes</th>\n",
       "      <th>latitude</th>\n",
       "      <th>longitude</th>\n",
       "      <th>foursquare_num_poi</th>\n",
       "      <th>Yelp_poi_count</th>\n",
       "    </tr>\n",
       "  </thead>\n",
       "  <tbody>\n",
       "    <tr>\n",
       "      <th>count</th>\n",
       "      <td>663.000000</td>\n",
       "      <td>663.000000</td>\n",
       "      <td>663.000000</td>\n",
       "      <td>663.000000</td>\n",
       "      <td>663.000000</td>\n",
       "      <td>663.000000</td>\n",
       "      <td>663.0</td>\n",
       "      <td>663.000000</td>\n",
       "    </tr>\n",
       "    <tr>\n",
       "      <th>mean</th>\n",
       "      <td>10.491704</td>\n",
       "      <td>18.882353</td>\n",
       "      <td>8.006033</td>\n",
       "      <td>0.150830</td>\n",
       "      <td>43.667176</td>\n",
       "      <td>-79.393309</td>\n",
       "      <td>0.0</td>\n",
       "      <td>418.322775</td>\n",
       "    </tr>\n",
       "    <tr>\n",
       "      <th>std</th>\n",
       "      <td>7.040850</td>\n",
       "      <td>6.296887</td>\n",
       "      <td>7.373503</td>\n",
       "      <td>0.876788</td>\n",
       "      <td>0.029916</td>\n",
       "      <td>0.057880</td>\n",
       "      <td>0.0</td>\n",
       "      <td>384.321737</td>\n",
       "    </tr>\n",
       "    <tr>\n",
       "      <th>min</th>\n",
       "      <td>0.000000</td>\n",
       "      <td>0.000000</td>\n",
       "      <td>0.000000</td>\n",
       "      <td>0.000000</td>\n",
       "      <td>43.588077</td>\n",
       "      <td>-79.544491</td>\n",
       "      <td>0.0</td>\n",
       "      <td>0.000000</td>\n",
       "    </tr>\n",
       "    <tr>\n",
       "      <th>25%</th>\n",
       "      <td>5.000000</td>\n",
       "      <td>15.000000</td>\n",
       "      <td>2.000000</td>\n",
       "      <td>0.000000</td>\n",
       "      <td>43.648685</td>\n",
       "      <td>-79.425058</td>\n",
       "      <td>0.0</td>\n",
       "      <td>130.000000</td>\n",
       "    </tr>\n",
       "    <tr>\n",
       "      <th>50%</th>\n",
       "      <td>11.000000</td>\n",
       "      <td>19.000000</td>\n",
       "      <td>6.000000</td>\n",
       "      <td>0.000000</td>\n",
       "      <td>43.661547</td>\n",
       "      <td>-79.393249</td>\n",
       "      <td>0.0</td>\n",
       "      <td>286.000000</td>\n",
       "    </tr>\n",
       "    <tr>\n",
       "      <th>75%</th>\n",
       "      <td>15.000000</td>\n",
       "      <td>22.000000</td>\n",
       "      <td>13.000000</td>\n",
       "      <td>0.000000</td>\n",
       "      <td>43.678361</td>\n",
       "      <td>-79.368560</td>\n",
       "      <td>0.0</td>\n",
       "      <td>595.500000</td>\n",
       "    </tr>\n",
       "    <tr>\n",
       "      <th>max</th>\n",
       "      <td>44.000000</td>\n",
       "      <td>57.000000</td>\n",
       "      <td>46.000000</td>\n",
       "      <td>14.000000</td>\n",
       "      <td>43.788319</td>\n",
       "      <td>-79.123505</td>\n",
       "      <td>0.0</td>\n",
       "      <td>1653.000000</td>\n",
       "    </tr>\n",
       "  </tbody>\n",
       "</table>\n",
       "</div>"
      ],
      "text/plain": [
       "       empty_slots       slots  free_bikes      ebikes    latitude  \\\n",
       "count   663.000000  663.000000  663.000000  663.000000  663.000000   \n",
       "mean     10.491704   18.882353    8.006033    0.150830   43.667176   \n",
       "std       7.040850    6.296887    7.373503    0.876788    0.029916   \n",
       "min       0.000000    0.000000    0.000000    0.000000   43.588077   \n",
       "25%       5.000000   15.000000    2.000000    0.000000   43.648685   \n",
       "50%      11.000000   19.000000    6.000000    0.000000   43.661547   \n",
       "75%      15.000000   22.000000   13.000000    0.000000   43.678361   \n",
       "max      44.000000   57.000000   46.000000   14.000000   43.788319   \n",
       "\n",
       "        longitude  foursquare_num_poi  Yelp_poi_count  \n",
       "count  663.000000               663.0      663.000000  \n",
       "mean   -79.393309                 0.0      418.322775  \n",
       "std      0.057880                 0.0      384.321737  \n",
       "min    -79.544491                 0.0        0.000000  \n",
       "25%    -79.425058                 0.0      130.000000  \n",
       "50%    -79.393249                 0.0      286.000000  \n",
       "75%    -79.368560                 0.0      595.500000  \n",
       "max    -79.123505                 0.0     1653.000000  "
      ]
     },
     "metadata": {},
     "output_type": "display_data"
    }
   ],
   "source": [
    "# descriptive stats\n",
    "df.describe()"
   ]
  },
  {
   "cell_type": "code",
   "execution_count": 11,
   "metadata": {},
   "outputs": [
    {
     "name": "stdout",
     "output_type": "stream",
     "text": [
      "<class 'pandas.core.frame.DataFrame'>\n",
      "RangeIndex: 663 entries, 0 to 662\n",
      "Data columns (total 11 columns):\n",
      " #   Column              Non-Null Count  Dtype  \n",
      "---  ------              --------------  -----  \n",
      " 0   city                663 non-null    object \n",
      " 1   station_name        663 non-null    object \n",
      " 2   empty_slots         663 non-null    int64  \n",
      " 3   slots               663 non-null    int64  \n",
      " 4   free_bikes          663 non-null    int64  \n",
      " 5   ebikes              663 non-null    int64  \n",
      " 6   latitude            663 non-null    float64\n",
      " 7   longitude           663 non-null    float64\n",
      " 8   timestamp           663 non-null    object \n",
      " 9   foursquare_num_poi  663 non-null    int64  \n",
      " 10  Yelp_poi_count      663 non-null    int64  \n",
      "dtypes: float64(2), int64(6), object(3)\n",
      "memory usage: 57.1+ KB\n"
     ]
    }
   ],
   "source": [
    "#check for missing values\n",
    "df.info()"
   ]
  },
  {
   "cell_type": "code",
   "execution_count": 12,
   "metadata": {},
   "outputs": [
    {
     "name": "stdout",
     "output_type": "stream",
     "text": [
      "0\n"
     ]
    }
   ],
   "source": [
    "# check for duplicates for Id\n",
    "nameUnique = len(set(df.station_name))\n",
    "nameTotal = df.shape[0]\n",
    "namedupe = nameTotal - nameUnique\n",
    "print(namedupe)\n"
   ]
  },
  {
   "attachments": {},
   "cell_type": "markdown",
   "metadata": {},
   "source": [
    "Provide model output and an interpretation of the results. "
   ]
  },
  {
   "cell_type": "code",
   "execution_count": 13,
   "metadata": {},
   "outputs": [
    {
     "data": {
      "text/plain": [
       "<AxesSubplot:xlabel='Yelp_poi_count', ylabel='Count'>"
      ]
     },
     "execution_count": 13,
     "metadata": {},
     "output_type": "execute_result"
    },
    {
     "data": {
      "image/png": "[encoded data removed]",
      "text/plain": [
       "<Figure size 432x288 with 1 Axes>"
      ]
     },
     "metadata": {
      "needs_background": "light"
     },
     "output_type": "display_data"
    }
   ],
   "source": [
    "# explorary target variable\n",
    "#histogram\n",
    "sns.histplot(df['Yelp_poi_count'])"
   ]
  },
  {
   "cell_type": "code",
   "execution_count": 14,
   "metadata": {},
   "outputs": [
    {
     "name": "stdout",
     "output_type": "stream",
     "text": [
      "['city', 'station_name', 'empty_slots', 'slots', 'free_bikes', 'ebikes', 'latitude', 'longitude', 'timestamp', 'foursquare_num_poi', 'Yelp_poi_count']\n"
     ]
    }
   ],
   "source": [
    "print(list(df.columns))"
   ]
  },
  {
   "cell_type": "code",
   "execution_count": 15,
   "metadata": {},
   "outputs": [
    {
     "data": {
      "text/plain": [
       "<AxesSubplot:xlabel='Yelp_poi_count', ylabel='empty_slots'>"
      ]
     },
     "execution_count": 15,
     "metadata": {},
     "output_type": "execute_result"
    },
    {
     "data": {
      "image/png": "[encoded data removed]",
      "text/plain": [
       "<Figure size 432x288 with 1 Axes>"
      ]
     },
     "metadata": {
      "needs_background": "light"
     },
     "output_type": "display_data"
    }
   ],
   "source": [
    "# scatter plot poi count vs empty slots\n",
    "var = 'Yelp_poi_count'\n",
    "data = df[['empty_slots',var]]\n",
    "data.plot.scatter(x=var, y='empty_slots',ylim=(0,60))"
   ]
  },
  {
   "cell_type": "code",
   "execution_count": 17,
   "metadata": {},
   "outputs": [
    {
     "data": {
      "text/plain": [
       "<AxesSubplot:>"
      ]
     },
     "execution_count": 17,
     "metadata": {},
     "output_type": "execute_result"
    },
    {
     "data": {
      "image/png": "[encoded data removed]",
      "text/plain": [
       "<Figure size 432x288 with 2 Axes>"
      ]
     },
     "metadata": {
      "needs_background": "light"
     },
     "output_type": "display_data"
    }
   ],
   "source": [
    "# correlation matrix \n",
    "corrmat = df.corr()\n",
    "#f, ax = plt.plots(figsize=(12,9))\n",
    "sns.heatmap(corrmat, vmax=.8,square=True,cmap='RdYlGn_r')"
   ]
  },
  {
   "cell_type": "code",
   "execution_count": 18,
   "metadata": {},
   "outputs": [],
   "source": [
    "import statsmodels.api as sm"
   ]
  },
  {
   "cell_type": "code",
   "execution_count": 24,
   "metadata": {},
   "outputs": [
    {
     "data": {
      "text/plain": [
       "['empty_slots', 'slots', 'ebikes', 'latitude', 'longitude', 'Yelp_poi_count']"
      ]
     },
     "execution_count": 24,
     "metadata": {},
     "output_type": "execute_result"
    }
   ],
   "source": [
    "numeric_cols = df.select_dtypes(include=[np.number]).columns.tolist()\n",
    "numeric_cols.remove('foursquare_num_poi')\n",
    "numeric_cols.remove('free_bikes')\n",
    "numeric_cols"
   ]
  },
  {
   "cell_type": "code",
   "execution_count": 25,
   "metadata": {},
   "outputs": [],
   "source": [
    "x = df[numeric_cols]\n",
    "y = df['Yelp_poi_count']"
   ]
  },
  {
   "cell_type": "code",
   "execution_count": 26,
   "metadata": {},
   "outputs": [
    {
     "name": "stderr",
     "output_type": "stream",
     "text": [
      "/Users/siyimo/opt/anaconda3/lib/python3.9/site-packages/statsmodels/tsa/tsatools.py:142: FutureWarning: In a future version of pandas all arguments of concat except for the argument 'objs' will be keyword-only\n",
      "  x = pd.concat(x[::order], 1)\n"
     ]
    }
   ],
   "source": [
    "x_cost = sm.add_constant(x) # adding a constant \n",
    "lin_reg = sm.OLS(y,x_cost)\n",
    "model = lin_reg.fit()"
   ]
  },
  {
   "cell_type": "code",
   "execution_count": 27,
   "metadata": {},
   "outputs": [
    {
     "name": "stdout",
     "output_type": "stream",
     "text": [
      "                            OLS Regression Results                            \n",
      "==============================================================================\n",
      "Dep. Variable:         Yelp_poi_count   R-squared:                       1.000\n",
      "Model:                            OLS   Adj. R-squared:                  1.000\n",
      "Method:                 Least Squares   F-statistic:                 3.213e+28\n",
      "Date:                Thu, 08 Jun 2023   Prob (F-statistic):               0.00\n",
      "Time:                        13:23:13   Log-Likelihood:                 15317.\n",
      "No. Observations:                 663   AIC:                        -3.062e+04\n",
      "Df Residuals:                     656   BIC:                        -3.059e+04\n",
      "Df Model:                           6                                         \n",
      "Covariance Type:            nonrobust                                         \n",
      "==================================================================================\n",
      "                     coef    std err          t      P>|t|      [0.025      0.975]\n",
      "----------------------------------------------------------------------------------\n",
      "const           9.777e-12   2.32e-09      0.004      0.997   -4.54e-09    4.56e-09\n",
      "empty_slots    -7.994e-15   1.51e-13     -0.053      0.958   -3.05e-13    2.89e-13\n",
      "slots           1.066e-14   1.61e-13      0.066      0.947   -3.05e-13    3.26e-13\n",
      "ebikes          8.882e-16   1.02e-12      0.001      0.999      -2e-12       2e-12\n",
      "latitude       -9.095e-13   3.45e-11     -0.026      0.979   -6.86e-11    6.68e-11\n",
      "longitude      -8.882e-14   1.63e-11     -0.005      0.996   -3.21e-11     3.2e-11\n",
      "Yelp_poi_count     1.0000   2.71e-15    3.7e+14      0.000       1.000       1.000\n",
      "==============================================================================\n",
      "Omnibus:                       96.785   Durbin-Watson:                   0.000\n",
      "Prob(Omnibus):                  0.000   Jarque-Bera (JB):              137.538\n",
      "Skew:                          -1.090   Prob(JB):                     1.36e-30\n",
      "Kurtosis:                       3.477   Cond. No.                     1.52e+06\n",
      "==============================================================================\n",
      "\n",
      "Notes:\n",
      "[1] Standard Errors assume that the covariance matrix of the errors is correctly specified.\n",
      "[2] The condition number is large, 1.52e+06. This might indicate that there are\n",
      "strong multicollinearity or other numerical problems.\n"
     ]
    }
   ],
   "source": [
    "print_model = model.summary()\n",
    "print(print_model)"
   ]
  },
  {
   "attachments": {},
   "cell_type": "markdown",
   "metadata": {},
   "source": [
    "# Stretch"
   ]
  },
  {
   "attachments": {},
   "cell_type": "markdown",
   "metadata": {},
   "source": [
    "How can you turn the regression model into a classification model?"
   ]
  },
  {
   "cell_type": "code",
   "execution_count": null,
   "metadata": {},
   "outputs": [],
   "source": []
  }
 ],
 "metadata": {
  "kernelspec": {
   "display_name": "Python 3",
   "language": "python",
   "name": "python3"
  },
  "language_info": {
   "codemirror_mode": {
    "name": "ipython",
    "version": 3
   },
   "file_extension": ".py",
   "mimetype": "text/x-python",
   "name": "python",
   "nbconvert_exporter": "python",
   "pygments_lexer": "ipython3",
   "version": "3.9.7"
  }
 },
 "nbformat": 4,
 "nbformat_minor": 4
}
